{
  "cells": [
    {
      "cell_type": "markdown",
      "metadata": {
        "id": "view-in-github",
        "colab_type": "text"
      },
      "source": [
        "<a href=\"https://colab.research.google.com/github/GreNinja47/ML-Clustering/blob/main/NGO_Donation_K_Mean_%26_Hierarchical_Clustering.ipynb\" target=\"_parent\"><img src=\"https://colab.research.google.com/assets/colab-badge.svg\" alt=\"Open In Colab\"/></a>"
      ]
    },
    {
      "cell_type": "code",
      "execution_count": null,
      "metadata": {
        "id": "hjvKhyA6G_Iv"
      },
      "outputs": [],
      "source": [
        "# Importing the python libraries\n",
        "\n",
        "import numpy as np\n",
        "import pandas as pd\n",
        "import matplotlib.pyplot as plt\n",
        "import seaborn as sns\n",
        "\n",
        "import statsmodels\n",
        "import statsmodels.api as sm\n",
        "import sklearn\n",
        "from sklearn.model_selection import train_test_split"
      ]
    },
    {
      "cell_type": "code",
      "execution_count": null,
      "metadata": {
        "id": "Kx2l_VlvG_Iw"
      },
      "outputs": [],
      "source": [
        "import warnings\n",
        "warnings.filterwarnings(\"ignore\")"
      ]
    },
    {
      "cell_type": "markdown",
      "metadata": {
        "id": "eWt4CCUAG_Iw"
      },
      "source": [
        "### 1. Reading and Inspecting the Data"
      ]
    },
    {
      "cell_type": "code",
      "execution_count": null,
      "metadata": {
        "id": "NyW820iSG_Ix",
        "outputId": "8f53dd6b-5557-4eac-d8f7-fc42fb9b1e95"
      },
      "outputs": [
        {
          "data": {
            "text/html": [
              "<div>\n",
              "<style scoped>\n",
              "    .dataframe tbody tr th:only-of-type {\n",
              "        vertical-align: middle;\n",
              "    }\n",
              "\n",
              "    .dataframe tbody tr th {\n",
              "        vertical-align: top;\n",
              "    }\n",
              "\n",
              "    .dataframe thead th {\n",
              "        text-align: right;\n",
              "    }\n",
              "</style>\n",
              "<table border=\"1\" class=\"dataframe\">\n",
              "  <thead>\n",
              "    <tr style=\"text-align: right;\">\n",
              "      <th></th>\n",
              "      <th>country</th>\n",
              "      <th>child_mort</th>\n",
              "      <th>exports</th>\n",
              "      <th>health</th>\n",
              "      <th>imports</th>\n",
              "      <th>income</th>\n",
              "      <th>inflation</th>\n",
              "      <th>life_expec</th>\n",
              "      <th>total_fer</th>\n",
              "      <th>gdpp</th>\n",
              "    </tr>\n",
              "  </thead>\n",
              "  <tbody>\n",
              "    <tr>\n",
              "      <th>0</th>\n",
              "      <td>Afghanistan</td>\n",
              "      <td>90.2</td>\n",
              "      <td>10.0</td>\n",
              "      <td>7.58</td>\n",
              "      <td>44.9</td>\n",
              "      <td>1610</td>\n",
              "      <td>9.44</td>\n",
              "      <td>56.2</td>\n",
              "      <td>5.82</td>\n",
              "      <td>553</td>\n",
              "    </tr>\n",
              "    <tr>\n",
              "      <th>1</th>\n",
              "      <td>Albania</td>\n",
              "      <td>16.6</td>\n",
              "      <td>28.0</td>\n",
              "      <td>6.55</td>\n",
              "      <td>48.6</td>\n",
              "      <td>9930</td>\n",
              "      <td>4.49</td>\n",
              "      <td>76.3</td>\n",
              "      <td>1.65</td>\n",
              "      <td>4090</td>\n",
              "    </tr>\n",
              "    <tr>\n",
              "      <th>2</th>\n",
              "      <td>Algeria</td>\n",
              "      <td>27.3</td>\n",
              "      <td>38.4</td>\n",
              "      <td>4.17</td>\n",
              "      <td>31.4</td>\n",
              "      <td>12900</td>\n",
              "      <td>16.10</td>\n",
              "      <td>76.5</td>\n",
              "      <td>2.89</td>\n",
              "      <td>4460</td>\n",
              "    </tr>\n",
              "    <tr>\n",
              "      <th>3</th>\n",
              "      <td>Angola</td>\n",
              "      <td>119.0</td>\n",
              "      <td>62.3</td>\n",
              "      <td>2.85</td>\n",
              "      <td>42.9</td>\n",
              "      <td>5900</td>\n",
              "      <td>22.40</td>\n",
              "      <td>60.1</td>\n",
              "      <td>6.16</td>\n",
              "      <td>3530</td>\n",
              "    </tr>\n",
              "    <tr>\n",
              "      <th>4</th>\n",
              "      <td>Antigua and Barbuda</td>\n",
              "      <td>10.3</td>\n",
              "      <td>45.5</td>\n",
              "      <td>6.03</td>\n",
              "      <td>58.9</td>\n",
              "      <td>19100</td>\n",
              "      <td>1.44</td>\n",
              "      <td>76.8</td>\n",
              "      <td>2.13</td>\n",
              "      <td>12200</td>\n",
              "    </tr>\n",
              "    <tr>\n",
              "      <th>...</th>\n",
              "      <td>...</td>\n",
              "      <td>...</td>\n",
              "      <td>...</td>\n",
              "      <td>...</td>\n",
              "      <td>...</td>\n",
              "      <td>...</td>\n",
              "      <td>...</td>\n",
              "      <td>...</td>\n",
              "      <td>...</td>\n",
              "      <td>...</td>\n",
              "    </tr>\n",
              "    <tr>\n",
              "      <th>162</th>\n",
              "      <td>Vanuatu</td>\n",
              "      <td>29.2</td>\n",
              "      <td>46.6</td>\n",
              "      <td>5.25</td>\n",
              "      <td>52.7</td>\n",
              "      <td>2950</td>\n",
              "      <td>2.62</td>\n",
              "      <td>63.0</td>\n",
              "      <td>3.50</td>\n",
              "      <td>2970</td>\n",
              "    </tr>\n",
              "    <tr>\n",
              "      <th>163</th>\n",
              "      <td>Venezuela</td>\n",
              "      <td>17.1</td>\n",
              "      <td>28.5</td>\n",
              "      <td>4.91</td>\n",
              "      <td>17.6</td>\n",
              "      <td>16500</td>\n",
              "      <td>45.90</td>\n",
              "      <td>75.4</td>\n",
              "      <td>2.47</td>\n",
              "      <td>13500</td>\n",
              "    </tr>\n",
              "    <tr>\n",
              "      <th>164</th>\n",
              "      <td>Vietnam</td>\n",
              "      <td>23.3</td>\n",
              "      <td>72.0</td>\n",
              "      <td>6.84</td>\n",
              "      <td>80.2</td>\n",
              "      <td>4490</td>\n",
              "      <td>12.10</td>\n",
              "      <td>73.1</td>\n",
              "      <td>1.95</td>\n",
              "      <td>1310</td>\n",
              "    </tr>\n",
              "    <tr>\n",
              "      <th>165</th>\n",
              "      <td>Yemen</td>\n",
              "      <td>56.3</td>\n",
              "      <td>30.0</td>\n",
              "      <td>5.18</td>\n",
              "      <td>34.4</td>\n",
              "      <td>4480</td>\n",
              "      <td>23.60</td>\n",
              "      <td>67.5</td>\n",
              "      <td>4.67</td>\n",
              "      <td>1310</td>\n",
              "    </tr>\n",
              "    <tr>\n",
              "      <th>166</th>\n",
              "      <td>Zambia</td>\n",
              "      <td>83.1</td>\n",
              "      <td>37.0</td>\n",
              "      <td>5.89</td>\n",
              "      <td>30.9</td>\n",
              "      <td>3280</td>\n",
              "      <td>14.00</td>\n",
              "      <td>52.0</td>\n",
              "      <td>5.40</td>\n",
              "      <td>1460</td>\n",
              "    </tr>\n",
              "  </tbody>\n",
              "</table>\n",
              "<p>167 rows × 10 columns</p>\n",
              "</div>"
            ],
            "text/plain": [
              "                 country  child_mort  exports  health  imports  income  \\\n",
              "0            Afghanistan        90.2     10.0    7.58     44.9    1610   \n",
              "1                Albania        16.6     28.0    6.55     48.6    9930   \n",
              "2                Algeria        27.3     38.4    4.17     31.4   12900   \n",
              "3                 Angola       119.0     62.3    2.85     42.9    5900   \n",
              "4    Antigua and Barbuda        10.3     45.5    6.03     58.9   19100   \n",
              "..                   ...         ...      ...     ...      ...     ...   \n",
              "162              Vanuatu        29.2     46.6    5.25     52.7    2950   \n",
              "163            Venezuela        17.1     28.5    4.91     17.6   16500   \n",
              "164              Vietnam        23.3     72.0    6.84     80.2    4490   \n",
              "165                Yemen        56.3     30.0    5.18     34.4    4480   \n",
              "166               Zambia        83.1     37.0    5.89     30.9    3280   \n",
              "\n",
              "     inflation  life_expec  total_fer   gdpp  \n",
              "0         9.44        56.2       5.82    553  \n",
              "1         4.49        76.3       1.65   4090  \n",
              "2        16.10        76.5       2.89   4460  \n",
              "3        22.40        60.1       6.16   3530  \n",
              "4         1.44        76.8       2.13  12200  \n",
              "..         ...         ...        ...    ...  \n",
              "162       2.62        63.0       3.50   2970  \n",
              "163      45.90        75.4       2.47  13500  \n",
              "164      12.10        73.1       1.95   1310  \n",
              "165      23.60        67.5       4.67   1310  \n",
              "166      14.00        52.0       5.40   1460  \n",
              "\n",
              "[167 rows x 10 columns]"
            ]
          },
          "execution_count": 3,
          "metadata": {},
          "output_type": "execute_result"
        }
      ],
      "source": [
        "# Reading the Countries file\n",
        "\n",
        "df=pd.read_csv(\"Country-data.csv\")\n",
        "df"
      ]
    },
    {
      "cell_type": "code",
      "execution_count": null,
      "metadata": {
        "id": "QN4xXjH1G_Ix",
        "outputId": "aeafa23d-15fa-4b0b-c73e-82737d8ac9a6"
      },
      "outputs": [
        {
          "data": {
            "text/html": [
              "<div>\n",
              "<style scoped>\n",
              "    .dataframe tbody tr th:only-of-type {\n",
              "        vertical-align: middle;\n",
              "    }\n",
              "\n",
              "    .dataframe tbody tr th {\n",
              "        vertical-align: top;\n",
              "    }\n",
              "\n",
              "    .dataframe thead th {\n",
              "        text-align: right;\n",
              "    }\n",
              "</style>\n",
              "<table border=\"1\" class=\"dataframe\">\n",
              "  <thead>\n",
              "    <tr style=\"text-align: right;\">\n",
              "      <th></th>\n",
              "      <th>Column Name</th>\n",
              "      <th>Description</th>\n",
              "    </tr>\n",
              "  </thead>\n",
              "  <tbody>\n",
              "    <tr>\n",
              "      <th>0</th>\n",
              "      <td>country</td>\n",
              "      <td>Name of the country</td>\n",
              "    </tr>\n",
              "    <tr>\n",
              "      <th>1</th>\n",
              "      <td>child_mort</td>\n",
              "      <td>Death of children under 5 years of age per 100...</td>\n",
              "    </tr>\n",
              "    <tr>\n",
              "      <th>2</th>\n",
              "      <td>exports</td>\n",
              "      <td>Exports of goods and services per capita. Give...</td>\n",
              "    </tr>\n",
              "    <tr>\n",
              "      <th>3</th>\n",
              "      <td>health</td>\n",
              "      <td>Total health spending per capita. Given as %ag...</td>\n",
              "    </tr>\n",
              "    <tr>\n",
              "      <th>4</th>\n",
              "      <td>imports</td>\n",
              "      <td>Imports of goods and services per capita. Give...</td>\n",
              "    </tr>\n",
              "    <tr>\n",
              "      <th>5</th>\n",
              "      <td>Income</td>\n",
              "      <td>Net income per person</td>\n",
              "    </tr>\n",
              "    <tr>\n",
              "      <th>6</th>\n",
              "      <td>Inflation</td>\n",
              "      <td>The measurement of the annual growth rate of t...</td>\n",
              "    </tr>\n",
              "    <tr>\n",
              "      <th>7</th>\n",
              "      <td>life_expec</td>\n",
              "      <td>The average number of years a new born child w...</td>\n",
              "    </tr>\n",
              "    <tr>\n",
              "      <th>8</th>\n",
              "      <td>total_fer</td>\n",
              "      <td>The number of children that would be born to e...</td>\n",
              "    </tr>\n",
              "    <tr>\n",
              "      <th>9</th>\n",
              "      <td>gdpp</td>\n",
              "      <td>The GDP per capita. Calculated as the Total GD...</td>\n",
              "    </tr>\n",
              "  </tbody>\n",
              "</table>\n",
              "</div>"
            ],
            "text/plain": [
              "  Column Name                                        Description\n",
              "0     country                                Name of the country\n",
              "1  child_mort  Death of children under 5 years of age per 100...\n",
              "2     exports  Exports of goods and services per capita. Give...\n",
              "3      health  Total health spending per capita. Given as %ag...\n",
              "4     imports  Imports of goods and services per capita. Give...\n",
              "5      Income                              Net income per person\n",
              "6   Inflation  The measurement of the annual growth rate of t...\n",
              "7  life_expec  The average number of years a new born child w...\n",
              "8   total_fer  The number of children that would be born to e...\n",
              "9        gdpp  The GDP per capita. Calculated as the Total GD..."
            ]
          },
          "execution_count": 4,
          "metadata": {},
          "output_type": "execute_result"
        }
      ],
      "source": [
        "# The Definition of given column names\n",
        "\n",
        "df1=pd.read_csv(\"data-dictionary+.csv\")\n",
        "df1"
      ]
    },
    {
      "cell_type": "code",
      "execution_count": null,
      "metadata": {
        "id": "3zmAOvO8G_Iy",
        "outputId": "dc111402-26d5-4c2d-e998-30a0456cbe00"
      },
      "outputs": [
        {
          "data": {
            "text/plain": [
              "(167, 10)"
            ]
          },
          "execution_count": 5,
          "metadata": {},
          "output_type": "execute_result"
        }
      ],
      "source": [
        "# Examining the shape of the Countries datset\n",
        "\n",
        "df.shape"
      ]
    },
    {
      "cell_type": "code",
      "execution_count": null,
      "metadata": {
        "id": "p4jlOqyOG_Iy",
        "outputId": "f9a1edd5-e71b-4523-bff5-d2c8fc2fe670"
      },
      "outputs": [
        {
          "data": {
            "text/plain": [
              "Index(['country', 'child_mort', 'exports', 'health', 'imports', 'income',\n",
              "       'inflation', 'life_expec', 'total_fer', 'gdpp'],\n",
              "      dtype='object')"
            ]
          },
          "execution_count": 6,
          "metadata": {},
          "output_type": "execute_result"
        }
      ],
      "source": [
        "# Examining the columns names of the Countries datset\n",
        "\n",
        "df.columns"
      ]
    },
    {
      "cell_type": "code",
      "execution_count": null,
      "metadata": {
        "id": "Czfyr2AoG_Iy",
        "outputId": "c5fb48a1-370b-414f-a436-d19001c7d968"
      },
      "outputs": [
        {
          "name": "stdout",
          "output_type": "stream",
          "text": [
            "<class 'pandas.core.frame.DataFrame'>\n",
            "RangeIndex: 167 entries, 0 to 166\n",
            "Data columns (total 10 columns):\n",
            " #   Column      Non-Null Count  Dtype  \n",
            "---  ------      --------------  -----  \n",
            " 0   country     167 non-null    object \n",
            " 1   child_mort  167 non-null    float64\n",
            " 2   exports     167 non-null    float64\n",
            " 3   health      167 non-null    float64\n",
            " 4   imports     167 non-null    float64\n",
            " 5   income      167 non-null    int64  \n",
            " 6   inflation   167 non-null    float64\n",
            " 7   life_expec  167 non-null    float64\n",
            " 8   total_fer   167 non-null    float64\n",
            " 9   gdpp        167 non-null    int64  \n",
            "dtypes: float64(7), int64(2), object(1)\n",
            "memory usage: 13.2+ KB\n"
          ]
        }
      ],
      "source": [
        "# Describing the Countries datset\n",
        "\n",
        "df.info(verbose=True)"
      ]
    },
    {
      "cell_type": "code",
      "execution_count": null,
      "metadata": {
        "id": "2CfaAQSjG_Iy",
        "outputId": "0dcb3149-f27d-4cd5-84ee-96ea25096047"
      },
      "outputs": [
        {
          "data": {
            "text/html": [
              "<div>\n",
              "<style scoped>\n",
              "    .dataframe tbody tr th:only-of-type {\n",
              "        vertical-align: middle;\n",
              "    }\n",
              "\n",
              "    .dataframe tbody tr th {\n",
              "        vertical-align: top;\n",
              "    }\n",
              "\n",
              "    .dataframe thead th {\n",
              "        text-align: right;\n",
              "    }\n",
              "</style>\n",
              "<table border=\"1\" class=\"dataframe\">\n",
              "  <thead>\n",
              "    <tr style=\"text-align: right;\">\n",
              "      <th></th>\n",
              "      <th>child_mort</th>\n",
              "      <th>exports</th>\n",
              "      <th>health</th>\n",
              "      <th>imports</th>\n",
              "      <th>income</th>\n",
              "      <th>inflation</th>\n",
              "      <th>life_expec</th>\n",
              "      <th>total_fer</th>\n",
              "      <th>gdpp</th>\n",
              "    </tr>\n",
              "  </thead>\n",
              "  <tbody>\n",
              "    <tr>\n",
              "      <th>count</th>\n",
              "      <td>167.000000</td>\n",
              "      <td>167.000000</td>\n",
              "      <td>167.000000</td>\n",
              "      <td>167.000000</td>\n",
              "      <td>167.000000</td>\n",
              "      <td>167.000000</td>\n",
              "      <td>167.000000</td>\n",
              "      <td>167.000000</td>\n",
              "      <td>167.000000</td>\n",
              "    </tr>\n",
              "    <tr>\n",
              "      <th>mean</th>\n",
              "      <td>38.270060</td>\n",
              "      <td>41.108976</td>\n",
              "      <td>6.815689</td>\n",
              "      <td>46.890215</td>\n",
              "      <td>17144.688623</td>\n",
              "      <td>7.781832</td>\n",
              "      <td>70.555689</td>\n",
              "      <td>2.947964</td>\n",
              "      <td>12964.155689</td>\n",
              "    </tr>\n",
              "    <tr>\n",
              "      <th>std</th>\n",
              "      <td>40.328931</td>\n",
              "      <td>27.412010</td>\n",
              "      <td>2.746837</td>\n",
              "      <td>24.209589</td>\n",
              "      <td>19278.067698</td>\n",
              "      <td>10.570704</td>\n",
              "      <td>8.893172</td>\n",
              "      <td>1.513848</td>\n",
              "      <td>18328.704809</td>\n",
              "    </tr>\n",
              "    <tr>\n",
              "      <th>min</th>\n",
              "      <td>2.600000</td>\n",
              "      <td>0.109000</td>\n",
              "      <td>1.810000</td>\n",
              "      <td>0.065900</td>\n",
              "      <td>609.000000</td>\n",
              "      <td>-4.210000</td>\n",
              "      <td>32.100000</td>\n",
              "      <td>1.150000</td>\n",
              "      <td>231.000000</td>\n",
              "    </tr>\n",
              "    <tr>\n",
              "      <th>25%</th>\n",
              "      <td>8.250000</td>\n",
              "      <td>23.800000</td>\n",
              "      <td>4.920000</td>\n",
              "      <td>30.200000</td>\n",
              "      <td>3355.000000</td>\n",
              "      <td>1.810000</td>\n",
              "      <td>65.300000</td>\n",
              "      <td>1.795000</td>\n",
              "      <td>1330.000000</td>\n",
              "    </tr>\n",
              "    <tr>\n",
              "      <th>50%</th>\n",
              "      <td>19.300000</td>\n",
              "      <td>35.000000</td>\n",
              "      <td>6.320000</td>\n",
              "      <td>43.300000</td>\n",
              "      <td>9960.000000</td>\n",
              "      <td>5.390000</td>\n",
              "      <td>73.100000</td>\n",
              "      <td>2.410000</td>\n",
              "      <td>4660.000000</td>\n",
              "    </tr>\n",
              "    <tr>\n",
              "      <th>75%</th>\n",
              "      <td>62.100000</td>\n",
              "      <td>51.350000</td>\n",
              "      <td>8.600000</td>\n",
              "      <td>58.750000</td>\n",
              "      <td>22800.000000</td>\n",
              "      <td>10.750000</td>\n",
              "      <td>76.800000</td>\n",
              "      <td>3.880000</td>\n",
              "      <td>14050.000000</td>\n",
              "    </tr>\n",
              "    <tr>\n",
              "      <th>max</th>\n",
              "      <td>208.000000</td>\n",
              "      <td>200.000000</td>\n",
              "      <td>17.900000</td>\n",
              "      <td>174.000000</td>\n",
              "      <td>125000.000000</td>\n",
              "      <td>104.000000</td>\n",
              "      <td>82.800000</td>\n",
              "      <td>7.490000</td>\n",
              "      <td>105000.000000</td>\n",
              "    </tr>\n",
              "  </tbody>\n",
              "</table>\n",
              "</div>"
            ],
            "text/plain": [
              "       child_mort     exports      health     imports         income  \\\n",
              "count  167.000000  167.000000  167.000000  167.000000     167.000000   \n",
              "mean    38.270060   41.108976    6.815689   46.890215   17144.688623   \n",
              "std     40.328931   27.412010    2.746837   24.209589   19278.067698   \n",
              "min      2.600000    0.109000    1.810000    0.065900     609.000000   \n",
              "25%      8.250000   23.800000    4.920000   30.200000    3355.000000   \n",
              "50%     19.300000   35.000000    6.320000   43.300000    9960.000000   \n",
              "75%     62.100000   51.350000    8.600000   58.750000   22800.000000   \n",
              "max    208.000000  200.000000   17.900000  174.000000  125000.000000   \n",
              "\n",
              "        inflation  life_expec   total_fer           gdpp  \n",
              "count  167.000000  167.000000  167.000000     167.000000  \n",
              "mean     7.781832   70.555689    2.947964   12964.155689  \n",
              "std     10.570704    8.893172    1.513848   18328.704809  \n",
              "min     -4.210000   32.100000    1.150000     231.000000  \n",
              "25%      1.810000   65.300000    1.795000    1330.000000  \n",
              "50%      5.390000   73.100000    2.410000    4660.000000  \n",
              "75%     10.750000   76.800000    3.880000   14050.000000  \n",
              "max    104.000000   82.800000    7.490000  105000.000000  "
            ]
          },
          "execution_count": 8,
          "metadata": {},
          "output_type": "execute_result"
        }
      ],
      "source": [
        "# Decribing the values in the Countries datset\n",
        "\n",
        "df.describe()"
      ]
    },
    {
      "cell_type": "markdown",
      "metadata": {
        "id": "0PiZIleYG_Iy"
      },
      "source": [
        "### 2. Cleaning the Data"
      ]
    },
    {
      "cell_type": "code",
      "execution_count": null,
      "metadata": {
        "id": "GacbpMYWG_Iy",
        "outputId": "bf5e6453-55a3-4218-e973-35f9a71a3ba6"
      },
      "outputs": [
        {
          "data": {
            "text/plain": [
              "country        object\n",
              "child_mort    float64\n",
              "exports       float64\n",
              "health        float64\n",
              "imports       float64\n",
              "income          int64\n",
              "inflation     float64\n",
              "life_expec    float64\n",
              "total_fer     float64\n",
              "gdpp            int64\n",
              "dtype: object"
            ]
          },
          "execution_count": 9,
          "metadata": {},
          "output_type": "execute_result"
        }
      ],
      "source": [
        "# Checking the Columns Data Types\n",
        "\n",
        "df.dtypes"
      ]
    },
    {
      "cell_type": "code",
      "execution_count": null,
      "metadata": {
        "id": "GURsJTBJG_Iy",
        "outputId": "1e52c39f-fdd9-4fa1-81fa-086b474d2a31"
      },
      "outputs": [
        {
          "data": {
            "text/plain": [
              "country       0.0\n",
              "child_mort    0.0\n",
              "exports       0.0\n",
              "health        0.0\n",
              "imports       0.0\n",
              "income        0.0\n",
              "inflation     0.0\n",
              "life_expec    0.0\n",
              "total_fer     0.0\n",
              "gdpp          0.0\n",
              "dtype: float64"
            ]
          },
          "execution_count": 10,
          "metadata": {},
          "output_type": "execute_result"
        }
      ],
      "source": [
        "# Examining the null values in the datset\n",
        "\n",
        "df.isnull().sum()/len(df)*100"
      ]
    },
    {
      "cell_type": "code",
      "execution_count": null,
      "metadata": {
        "id": "LV1DkK94G_Iz",
        "outputId": "7197dc1f-5410-439d-fc13-7fa77c132834"
      },
      "outputs": [
        {
          "data": {
            "text/plain": [
              "0"
            ]
          },
          "execution_count": 11,
          "metadata": {},
          "output_type": "execute_result"
        }
      ],
      "source": [
        "# Checking if there is any repeatation of country names in dataset\n",
        "\n",
        "df.country.duplicated().sum()"
      ]
    },
    {
      "cell_type": "code",
      "execution_count": null,
      "metadata": {
        "id": "9yjiB5KcG_Iz"
      },
      "outputs": [],
      "source": [
        "# Converting exports,imports and health spending percentages to absolute values.\n",
        "\n",
        "df['exports'] =df['exports'] * df['gdpp']/100\n",
        "df['imports'] = df['imports'] * df['gdpp']/100\n",
        "df['health'] = df['health'] * df['gdpp']/100\n",
        "\n"
      ]
    },
    {
      "cell_type": "code",
      "execution_count": null,
      "metadata": {
        "id": "fAMy8C-dG_Iz",
        "outputId": "e4c96ca3-3f1a-4987-d2bb-3003c8d3d058"
      },
      "outputs": [
        {
          "data": {
            "text/html": [
              "<div>\n",
              "<style scoped>\n",
              "    .dataframe tbody tr th:only-of-type {\n",
              "        vertical-align: middle;\n",
              "    }\n",
              "\n",
              "    .dataframe tbody tr th {\n",
              "        vertical-align: top;\n",
              "    }\n",
              "\n",
              "    .dataframe thead th {\n",
              "        text-align: right;\n",
              "    }\n",
              "</style>\n",
              "<table border=\"1\" class=\"dataframe\">\n",
              "  <thead>\n",
              "    <tr style=\"text-align: right;\">\n",
              "      <th></th>\n",
              "      <th>country</th>\n",
              "      <th>child_mort</th>\n",
              "      <th>exports</th>\n",
              "      <th>health</th>\n",
              "      <th>imports</th>\n",
              "      <th>income</th>\n",
              "      <th>inflation</th>\n",
              "      <th>life_expec</th>\n",
              "      <th>total_fer</th>\n",
              "      <th>gdpp</th>\n",
              "    </tr>\n",
              "  </thead>\n",
              "  <tbody>\n",
              "    <tr>\n",
              "      <th>0</th>\n",
              "      <td>Afghanistan</td>\n",
              "      <td>90.2</td>\n",
              "      <td>55.30</td>\n",
              "      <td>41.9174</td>\n",
              "      <td>248.297</td>\n",
              "      <td>1610</td>\n",
              "      <td>9.44</td>\n",
              "      <td>56.2</td>\n",
              "      <td>5.82</td>\n",
              "      <td>553</td>\n",
              "    </tr>\n",
              "    <tr>\n",
              "      <th>1</th>\n",
              "      <td>Albania</td>\n",
              "      <td>16.6</td>\n",
              "      <td>1145.20</td>\n",
              "      <td>267.8950</td>\n",
              "      <td>1987.740</td>\n",
              "      <td>9930</td>\n",
              "      <td>4.49</td>\n",
              "      <td>76.3</td>\n",
              "      <td>1.65</td>\n",
              "      <td>4090</td>\n",
              "    </tr>\n",
              "    <tr>\n",
              "      <th>2</th>\n",
              "      <td>Algeria</td>\n",
              "      <td>27.3</td>\n",
              "      <td>1712.64</td>\n",
              "      <td>185.9820</td>\n",
              "      <td>1400.440</td>\n",
              "      <td>12900</td>\n",
              "      <td>16.10</td>\n",
              "      <td>76.5</td>\n",
              "      <td>2.89</td>\n",
              "      <td>4460</td>\n",
              "    </tr>\n",
              "    <tr>\n",
              "      <th>3</th>\n",
              "      <td>Angola</td>\n",
              "      <td>119.0</td>\n",
              "      <td>2199.19</td>\n",
              "      <td>100.6050</td>\n",
              "      <td>1514.370</td>\n",
              "      <td>5900</td>\n",
              "      <td>22.40</td>\n",
              "      <td>60.1</td>\n",
              "      <td>6.16</td>\n",
              "      <td>3530</td>\n",
              "    </tr>\n",
              "    <tr>\n",
              "      <th>4</th>\n",
              "      <td>Antigua and Barbuda</td>\n",
              "      <td>10.3</td>\n",
              "      <td>5551.00</td>\n",
              "      <td>735.6600</td>\n",
              "      <td>7185.800</td>\n",
              "      <td>19100</td>\n",
              "      <td>1.44</td>\n",
              "      <td>76.8</td>\n",
              "      <td>2.13</td>\n",
              "      <td>12200</td>\n",
              "    </tr>\n",
              "  </tbody>\n",
              "</table>\n",
              "</div>"
            ],
            "text/plain": [
              "               country  child_mort  exports    health   imports  income  \\\n",
              "0          Afghanistan        90.2    55.30   41.9174   248.297    1610   \n",
              "1              Albania        16.6  1145.20  267.8950  1987.740    9930   \n",
              "2              Algeria        27.3  1712.64  185.9820  1400.440   12900   \n",
              "3               Angola       119.0  2199.19  100.6050  1514.370    5900   \n",
              "4  Antigua and Barbuda        10.3  5551.00  735.6600  7185.800   19100   \n",
              "\n",
              "   inflation  life_expec  total_fer   gdpp  \n",
              "0       9.44        56.2       5.82    553  \n",
              "1       4.49        76.3       1.65   4090  \n",
              "2      16.10        76.5       2.89   4460  \n",
              "3      22.40        60.1       6.16   3530  \n",
              "4       1.44        76.8       2.13  12200  "
            ]
          },
          "execution_count": 13,
          "metadata": {},
          "output_type": "execute_result"
        }
      ],
      "source": [
        "df.head()"
      ]
    },
    {
      "cell_type": "markdown",
      "metadata": {
        "id": "fwvuXEtEG_Iz"
      },
      "source": [
        "### 3.Data Visualization"
      ]
    },
    {
      "cell_type": "code",
      "execution_count": null,
      "metadata": {
        "id": "HAherapjG_Iz",
        "outputId": "80a916aa-0c94-45fa-d7db-5ba38a608f30"
      },
      "outputs": [
        {
          "data": {
            "image/png": "[encoded data removed]",
            "text/plain": [
              "<Figure size 1080x720 with 2 Axes>"
            ]
          },
          "metadata": {
            "needs_background": "light"
          },
          "output_type": "display_data"
        }
      ],
      "source": [
        "# Heatmap to understand the attributes dependency\n",
        "\n",
        "plt.figure(figsize = (15,10))\n",
        "sns.heatmap(df.corr(),annot = True,cmap='RdYlGn')\n",
        "\n",
        "plt.show()"
      ]
    },
    {
      "cell_type": "code",
      "execution_count": null,
      "metadata": {
        "id": "vO3xwGupG_Iz",
        "outputId": "971b774a-c4fc-4a18-e671-da175ae00e14"
      },
      "outputs": [
        {
          "data": {
            "image/png": "[encoded data removed]",
            "text/plain": [
              "<Figure size 1080x720 with 9 Axes>"
            ]
          },
          "metadata": {
            "needs_background": "light"
          },
          "output_type": "display_data"
        }
      ],
      "source": [
        "plt.figure(figsize = (15,10))\n",
        "features = df.columns[1:]\n",
        "for i in enumerate(features):\n",
        "    plt.subplot(3,3, i[0]+1)\n",
        "    sns.boxplot(df[i[1]],palette='coolwarm')"
      ]
    },
    {
      "cell_type": "code",
      "execution_count": null,
      "metadata": {
        "id": "tsNROXANG_Iz",
        "outputId": "f45eeb50-a022-4e46-eb30-274a7cfc882e"
      },
      "outputs": [
        {
          "data": {
            "image/png": "[encoded data removed]",
            "text/plain": [
              "<Figure size 1260x1260 with 56 Axes>"
            ]
          },
          "metadata": {
            "needs_background": "light"
          },
          "output_type": "display_data"
        }
      ],
      "source": [
        "sns.pairplot(df, vars=[\"child_mort\", 'total_fer','gdpp','life_expec','income', 'imports', 'exports'], kind='scatter')\n",
        "plt.show()"
      ]
    },
    {
      "cell_type": "markdown",
      "metadata": {
        "id": "pXnM6hX0G_Iz"
      },
      "source": [
        "#### Note: The crucial areas that influence the direst aid requirements for the countries are its child mortality, income and GDP per capita, so going forward we need to provide more emphasizes will be given in these areas majorly."
      ]
    },
    {
      "cell_type": "code",
      "execution_count": null,
      "metadata": {
        "id": "FFfiWjlbG_I0",
        "outputId": "70a7e92f-677d-4d1c-d2f0-dd638ce9d3c8"
      },
      "outputs": [
        {
          "data": {
            "image/png": "[encoded data removed]",
            "text/plain": [
              "<Figure size 720x720 with 3 Axes>"
            ]
          },
          "metadata": {
            "needs_background": "light"
          },
          "output_type": "display_data"
        }
      ],
      "source": [
        "plt.figure(figsize=(10, 10))\n",
        "features = ['child_mort', 'income','gdpp']\n",
        "for i in enumerate(features):\n",
        "    plt.subplot(2, 2, i[0]+1)\n",
        "    sns.distplot(df[i[1]])"
      ]
    },
    {
      "cell_type": "markdown",
      "metadata": {
        "id": "0OXdVkZRG_I0"
      },
      "source": []
    },
    {
      "cell_type": "code",
      "execution_count": null,
      "metadata": {
        "id": "vXHVN-o1G_I0",
        "outputId": "341b7320-8a37-40e4-f4a2-6a7f4a2d89f4"
      },
      "outputs": [
        {
          "data": {
            "text/plain": [
              "<matplotlib.axes._subplots.AxesSubplot at 0x15e41c63408>"
            ]
          },
          "execution_count": 18,
          "metadata": {},
          "output_type": "execute_result"
        },
        {
          "data": {
            "image/png": "[encoded data removed]",
            "text/plain": [
              "<Figure size 432x288 with 2 Axes>"
            ]
          },
          "metadata": {
            "needs_background": "light"
          },
          "output_type": "display_data"
        }
      ],
      "source": [
        "plt.subplot(1, 2, 1)\n",
        "sns.scatterplot(x='income',y='child_mort', data=df)\n",
        "\n",
        "plt.subplot(1, 2, 2)\n",
        "sns.scatterplot(x='gdpp',y='child_mort', data=df)\n"
      ]
    },
    {
      "cell_type": "markdown",
      "metadata": {
        "id": "L7GxRmjBG_I0"
      },
      "source": [
        "#### Note: lower income and lower gdpp of a nation is contributing towards child mortality"
      ]
    },
    {
      "cell_type": "code",
      "execution_count": null,
      "metadata": {
        "id": "I-CVqCutG_I0",
        "outputId": "e47d0d66-ae0d-4c63-d17a-d38912eb83cf"
      },
      "outputs": [
        {
          "data": {
            "text/plain": [
              "(array([0, 1, 2, 3, 4, 5, 6, 7, 8, 9]),\n",
              " <a list of 10 Text major ticklabel objects>)"
            ]
          },
          "execution_count": 19,
          "metadata": {},
          "output_type": "execute_result"
        },
        {
          "data": {
            "image/png": "[encoded data removed]",
            "text/plain": [
              "<Figure size 360x360 with 1 Axes>"
            ]
          },
          "metadata": {
            "needs_background": "light"
          },
          "output_type": "display_data"
        }
      ],
      "source": [
        "fig, axs = plt.subplots(0,0, figsize = (5,5))\n",
        "\n",
        "# Child Mortality Rate\n",
        "\n",
        "child_mortality = df[['country','child_mort']].sort_values('child_mort', ascending = False).head(10)\n",
        "plt1 = sns.barplot(x='country', y='child_mort', data= child_mortality, palette='rocket')\n",
        "plt1.set(xlabel = 'Child Mortality Rate Higher Countries', ylabel= '')\n",
        "plt.xticks(rotation=90)\n"
      ]
    },
    {
      "cell_type": "code",
      "execution_count": null,
      "metadata": {
        "id": "T3sI6UDkG_I0",
        "outputId": "cdf7a03d-2958-45d8-f07b-839152cff8b4"
      },
      "outputs": [
        {
          "data": {
            "text/plain": [
              "(array([0, 1, 2, 3, 4, 5, 6, 7, 8, 9]),\n",
              " <a list of 10 Text major ticklabel objects>)"
            ]
          },
          "execution_count": 20,
          "metadata": {},
          "output_type": "execute_result"
        },
        {
          "data": {
            "image/png": "[encoded data removed]",
            "text/plain": [
              "<Figure size 432x288 with 1 Axes>"
            ]
          },
          "metadata": {
            "needs_background": "light"
          },
          "output_type": "display_data"
        }
      ],
      "source": [
        "# Lower Income Countries\n",
        "\n",
        "Lower_income = df[['country','income']].sort_values('income', ascending = True).head(10)\n",
        "plt1 = sns.barplot(x='country', y='income', data= Lower_income, palette='mako')\n",
        "plt1.set(xlabel = 'Lower Income Countries', ylabel= '')\n",
        "plt.xticks(rotation=90)"
      ]
    },
    {
      "cell_type": "code",
      "execution_count": null,
      "metadata": {
        "id": "jh06GM1aG_I0",
        "outputId": "2f0fe841-6855-490d-cdb3-2140afa7d03f"
      },
      "outputs": [
        {
          "data": {
            "text/plain": [
              "(array([0, 1, 2, 3, 4, 5, 6, 7, 8, 9]),\n",
              " <a list of 10 Text major ticklabel objects>)"
            ]
          },
          "execution_count": 21,
          "metadata": {},
          "output_type": "execute_result"
        },
        {
          "data": {
            "image/png": "[encoded data removed]",
            "text/plain": [
              "<Figure size 432x288 with 1 Axes>"
            ]
          },
          "metadata": {
            "needs_background": "light"
          },
          "output_type": "display_data"
        }
      ],
      "source": [
        "# Lower GDP per capita Countries\n",
        "\n",
        "Lower_GDP = df[['country','gdpp']].sort_values('gdpp', ascending = True).head(10)\n",
        "plt1 = sns.barplot(x='country', y='gdpp', data= Lower_GDP, palette='magma')\n",
        "plt1.set(xlabel = 'Lower GDP per capita Countries', ylabel= '')\n",
        "plt.xticks(rotation=90)"
      ]
    },
    {
      "cell_type": "markdown",
      "metadata": {
        "id": "Dq15GirBG_I0"
      },
      "source": [
        "### 4. Data Analysis"
      ]
    },
    {
      "cell_type": "markdown",
      "metadata": {
        "id": "7GcHJIrBG_I0"
      },
      "source": [
        "#### Handling the Outliers"
      ]
    },
    {
      "cell_type": "code",
      "execution_count": null,
      "metadata": {
        "id": "aWYiKVmjG_I1",
        "outputId": "a42b1c93-0d44-4967-f07d-d1d44220a66e"
      },
      "outputs": [
        {
          "data": {
            "text/html": [
              "<div>\n",
              "<style scoped>\n",
              "    .dataframe tbody tr th:only-of-type {\n",
              "        vertical-align: middle;\n",
              "    }\n",
              "\n",
              "    .dataframe tbody tr th {\n",
              "        vertical-align: top;\n",
              "    }\n",
              "\n",
              "    .dataframe thead th {\n",
              "        text-align: right;\n",
              "    }\n",
              "</style>\n",
              "<table border=\"1\" class=\"dataframe\">\n",
              "  <thead>\n",
              "    <tr style=\"text-align: right;\">\n",
              "      <th></th>\n",
              "      <th>child_mort</th>\n",
              "      <th>exports</th>\n",
              "      <th>health</th>\n",
              "      <th>imports</th>\n",
              "      <th>income</th>\n",
              "      <th>inflation</th>\n",
              "      <th>life_expec</th>\n",
              "      <th>total_fer</th>\n",
              "      <th>gdpp</th>\n",
              "    </tr>\n",
              "  </thead>\n",
              "  <tbody>\n",
              "    <tr>\n",
              "      <th>count</th>\n",
              "      <td>167.000000</td>\n",
              "      <td>167.000000</td>\n",
              "      <td>167.000000</td>\n",
              "      <td>167.000000</td>\n",
              "      <td>167.000000</td>\n",
              "      <td>167.000000</td>\n",
              "      <td>167.000000</td>\n",
              "      <td>167.000000</td>\n",
              "      <td>167.000000</td>\n",
              "    </tr>\n",
              "    <tr>\n",
              "      <th>mean</th>\n",
              "      <td>38.270060</td>\n",
              "      <td>7420.618847</td>\n",
              "      <td>1056.733204</td>\n",
              "      <td>6588.352108</td>\n",
              "      <td>17144.688623</td>\n",
              "      <td>7.781832</td>\n",
              "      <td>70.555689</td>\n",
              "      <td>2.947964</td>\n",
              "      <td>12964.155689</td>\n",
              "    </tr>\n",
              "    <tr>\n",
              "      <th>std</th>\n",
              "      <td>40.328931</td>\n",
              "      <td>17973.885795</td>\n",
              "      <td>1801.408906</td>\n",
              "      <td>14710.810418</td>\n",
              "      <td>19278.067698</td>\n",
              "      <td>10.570704</td>\n",
              "      <td>8.893172</td>\n",
              "      <td>1.513848</td>\n",
              "      <td>18328.704809</td>\n",
              "    </tr>\n",
              "    <tr>\n",
              "      <th>min</th>\n",
              "      <td>2.600000</td>\n",
              "      <td>1.076920</td>\n",
              "      <td>12.821200</td>\n",
              "      <td>0.651092</td>\n",
              "      <td>609.000000</td>\n",
              "      <td>-4.210000</td>\n",
              "      <td>32.100000</td>\n",
              "      <td>1.150000</td>\n",
              "      <td>231.000000</td>\n",
              "    </tr>\n",
              "    <tr>\n",
              "      <th>25%</th>\n",
              "      <td>8.250000</td>\n",
              "      <td>447.140000</td>\n",
              "      <td>78.535500</td>\n",
              "      <td>640.215000</td>\n",
              "      <td>3355.000000</td>\n",
              "      <td>1.810000</td>\n",
              "      <td>65.300000</td>\n",
              "      <td>1.795000</td>\n",
              "      <td>1330.000000</td>\n",
              "    </tr>\n",
              "    <tr>\n",
              "      <th>50%</th>\n",
              "      <td>19.300000</td>\n",
              "      <td>1777.440000</td>\n",
              "      <td>321.886000</td>\n",
              "      <td>2045.580000</td>\n",
              "      <td>9960.000000</td>\n",
              "      <td>5.390000</td>\n",
              "      <td>73.100000</td>\n",
              "      <td>2.410000</td>\n",
              "      <td>4660.000000</td>\n",
              "    </tr>\n",
              "    <tr>\n",
              "      <th>75%</th>\n",
              "      <td>62.100000</td>\n",
              "      <td>7278.000000</td>\n",
              "      <td>976.940000</td>\n",
              "      <td>7719.600000</td>\n",
              "      <td>22800.000000</td>\n",
              "      <td>10.750000</td>\n",
              "      <td>76.800000</td>\n",
              "      <td>3.880000</td>\n",
              "      <td>14050.000000</td>\n",
              "    </tr>\n",
              "    <tr>\n",
              "      <th>max</th>\n",
              "      <td>208.000000</td>\n",
              "      <td>183750.000000</td>\n",
              "      <td>8663.600000</td>\n",
              "      <td>149100.000000</td>\n",
              "      <td>125000.000000</td>\n",
              "      <td>104.000000</td>\n",
              "      <td>82.800000</td>\n",
              "      <td>7.490000</td>\n",
              "      <td>105000.000000</td>\n",
              "    </tr>\n",
              "  </tbody>\n",
              "</table>\n",
              "</div>"
            ],
            "text/plain": [
              "       child_mort        exports       health        imports         income  \\\n",
              "count  167.000000     167.000000   167.000000     167.000000     167.000000   \n",
              "mean    38.270060    7420.618847  1056.733204    6588.352108   17144.688623   \n",
              "std     40.328931   17973.885795  1801.408906   14710.810418   19278.067698   \n",
              "min      2.600000       1.076920    12.821200       0.651092     609.000000   \n",
              "25%      8.250000     447.140000    78.535500     640.215000    3355.000000   \n",
              "50%     19.300000    1777.440000   321.886000    2045.580000    9960.000000   \n",
              "75%     62.100000    7278.000000   976.940000    7719.600000   22800.000000   \n",
              "max    208.000000  183750.000000  8663.600000  149100.000000  125000.000000   \n",
              "\n",
              "        inflation  life_expec   total_fer           gdpp  \n",
              "count  167.000000  167.000000  167.000000     167.000000  \n",
              "mean     7.781832   70.555689    2.947964   12964.155689  \n",
              "std     10.570704    8.893172    1.513848   18328.704809  \n",
              "min     -4.210000   32.100000    1.150000     231.000000  \n",
              "25%      1.810000   65.300000    1.795000    1330.000000  \n",
              "50%      5.390000   73.100000    2.410000    4660.000000  \n",
              "75%     10.750000   76.800000    3.880000   14050.000000  \n",
              "max    104.000000   82.800000    7.490000  105000.000000  "
            ]
          },
          "execution_count": 22,
          "metadata": {},
          "output_type": "execute_result"
        }
      ],
      "source": [
        "df.describe()"
      ]
    },
    {
      "cell_type": "code",
      "execution_count": null,
      "metadata": {
        "id": "cxrNUkojG_I1"
      },
      "outputs": [],
      "source": [
        "q1 = df['exports'].quantile(0.99)\n",
        "q2 = df['health'].quantile(0.99)\n",
        "q3 = df['imports'].quantile(0.99)\n",
        "q4 = df['income'].quantile(0.99)\n",
        "q5 = df['inflation'].quantile(0.99)\n",
        "q6 = df['total_fer'].quantile(0.99)\n",
        "q7 = df['gdpp'].quantile(0.99)\n",
        "\n",
        "df['exports'][df['exports']>= q1] = q1\n",
        "df['health'][df['health']>= q2] = q2\n",
        "df['imports'][df['imports']>= q3] = q3\n",
        "df['income'][df['income']>= q4] = q4\n",
        "df['inflation'][df['inflation']>= q5] = q5\n",
        "df['total_fer'][df['total_fer']>= q6] = q6\n",
        "df['gdpp'][df['gdpp']>= q7] = q7\n",
        "\n",
        "# Excluding child_mortality and life_expectance we have included all remaining columns"
      ]
    },
    {
      "cell_type": "code",
      "execution_count": null,
      "metadata": {
        "id": "sZGFpRmzG_I1",
        "outputId": "acde65c3-6edd-4b22-ce85-3b9d90e0539b"
      },
      "outputs": [
        {
          "data": {
            "text/html": [
              "<div>\n",
              "<style scoped>\n",
              "    .dataframe tbody tr th:only-of-type {\n",
              "        vertical-align: middle;\n",
              "    }\n",
              "\n",
              "    .dataframe tbody tr th {\n",
              "        vertical-align: top;\n",
              "    }\n",
              "\n",
              "    .dataframe thead th {\n",
              "        text-align: right;\n",
              "    }\n",
              "</style>\n",
              "<table border=\"1\" class=\"dataframe\">\n",
              "  <thead>\n",
              "    <tr style=\"text-align: right;\">\n",
              "      <th></th>\n",
              "      <th>child_mort</th>\n",
              "      <th>exports</th>\n",
              "      <th>health</th>\n",
              "      <th>imports</th>\n",
              "      <th>income</th>\n",
              "      <th>inflation</th>\n",
              "      <th>life_expec</th>\n",
              "      <th>total_fer</th>\n",
              "      <th>gdpp</th>\n",
              "    </tr>\n",
              "  </thead>\n",
              "  <tbody>\n",
              "    <tr>\n",
              "      <th>count</th>\n",
              "      <td>167.000000</td>\n",
              "      <td>167.000000</td>\n",
              "      <td>167.000000</td>\n",
              "      <td>167.000000</td>\n",
              "      <td>167.000000</td>\n",
              "      <td>167.000000</td>\n",
              "      <td>167.000000</td>\n",
              "      <td>167.000000</td>\n",
              "      <td>167.000000</td>\n",
              "    </tr>\n",
              "    <tr>\n",
              "      <th>mean</th>\n",
              "      <td>38.270060</td>\n",
              "      <td>6538.214776</td>\n",
              "      <td>1054.206622</td>\n",
              "      <td>5873.135222</td>\n",
              "      <td>16857.550898</td>\n",
              "      <td>7.380970</td>\n",
              "      <td>70.555689</td>\n",
              "      <td>2.942259</td>\n",
              "      <td>12756.826347</td>\n",
              "    </tr>\n",
              "    <tr>\n",
              "      <th>std</th>\n",
              "      <td>40.328931</td>\n",
              "      <td>11415.308590</td>\n",
              "      <td>1790.845342</td>\n",
              "      <td>9422.700869</td>\n",
              "      <td>17957.012855</td>\n",
              "      <td>7.793224</td>\n",
              "      <td>8.893172</td>\n",
              "      <td>1.498340</td>\n",
              "      <td>17430.208938</td>\n",
              "    </tr>\n",
              "    <tr>\n",
              "      <th>min</th>\n",
              "      <td>2.600000</td>\n",
              "      <td>1.076920</td>\n",
              "      <td>12.821200</td>\n",
              "      <td>0.651092</td>\n",
              "      <td>609.000000</td>\n",
              "      <td>-4.210000</td>\n",
              "      <td>32.100000</td>\n",
              "      <td>1.150000</td>\n",
              "      <td>231.000000</td>\n",
              "    </tr>\n",
              "    <tr>\n",
              "      <th>25%</th>\n",
              "      <td>8.250000</td>\n",
              "      <td>447.140000</td>\n",
              "      <td>78.535500</td>\n",
              "      <td>640.215000</td>\n",
              "      <td>3355.000000</td>\n",
              "      <td>1.810000</td>\n",
              "      <td>65.300000</td>\n",
              "      <td>1.795000</td>\n",
              "      <td>1330.000000</td>\n",
              "    </tr>\n",
              "    <tr>\n",
              "      <th>50%</th>\n",
              "      <td>19.300000</td>\n",
              "      <td>1777.440000</td>\n",
              "      <td>321.886000</td>\n",
              "      <td>2045.580000</td>\n",
              "      <td>9960.000000</td>\n",
              "      <td>5.390000</td>\n",
              "      <td>73.100000</td>\n",
              "      <td>2.410000</td>\n",
              "      <td>4660.000000</td>\n",
              "    </tr>\n",
              "    <tr>\n",
              "      <th>75%</th>\n",
              "      <td>62.100000</td>\n",
              "      <td>7278.000000</td>\n",
              "      <td>976.940000</td>\n",
              "      <td>7719.600000</td>\n",
              "      <td>22800.000000</td>\n",
              "      <td>10.750000</td>\n",
              "      <td>76.800000</td>\n",
              "      <td>3.880000</td>\n",
              "      <td>14050.000000</td>\n",
              "    </tr>\n",
              "    <tr>\n",
              "      <th>max</th>\n",
              "      <td>208.000000</td>\n",
              "      <td>64794.260000</td>\n",
              "      <td>8410.330400</td>\n",
              "      <td>55371.390000</td>\n",
              "      <td>84374.000000</td>\n",
              "      <td>41.478000</td>\n",
              "      <td>82.800000</td>\n",
              "      <td>6.563600</td>\n",
              "      <td>79088.000000</td>\n",
              "    </tr>\n",
              "  </tbody>\n",
              "</table>\n",
              "</div>"
            ],
            "text/plain": [
              "       child_mort       exports       health       imports        income  \\\n",
              "count  167.000000    167.000000   167.000000    167.000000    167.000000   \n",
              "mean    38.270060   6538.214776  1054.206622   5873.135222  16857.550898   \n",
              "std     40.328931  11415.308590  1790.845342   9422.700869  17957.012855   \n",
              "min      2.600000      1.076920    12.821200      0.651092    609.000000   \n",
              "25%      8.250000    447.140000    78.535500    640.215000   3355.000000   \n",
              "50%     19.300000   1777.440000   321.886000   2045.580000   9960.000000   \n",
              "75%     62.100000   7278.000000   976.940000   7719.600000  22800.000000   \n",
              "max    208.000000  64794.260000  8410.330400  55371.390000  84374.000000   \n",
              "\n",
              "        inflation  life_expec   total_fer          gdpp  \n",
              "count  167.000000  167.000000  167.000000    167.000000  \n",
              "mean     7.380970   70.555689    2.942259  12756.826347  \n",
              "std      7.793224    8.893172    1.498340  17430.208938  \n",
              "min     -4.210000   32.100000    1.150000    231.000000  \n",
              "25%      1.810000   65.300000    1.795000   1330.000000  \n",
              "50%      5.390000   73.100000    2.410000   4660.000000  \n",
              "75%     10.750000   76.800000    3.880000  14050.000000  \n",
              "max     41.478000   82.800000    6.563600  79088.000000  "
            ]
          },
          "execution_count": 24,
          "metadata": {},
          "output_type": "execute_result"
        }
      ],
      "source": [
        "#Outliers after treatment\n",
        "df.describe()"
      ]
    },
    {
      "cell_type": "markdown",
      "metadata": {
        "id": "mUn0m_HeG_I1"
      },
      "source": [
        "#### 5. Finding the Hopkins Score"
      ]
    },
    {
      "cell_type": "code",
      "execution_count": null,
      "metadata": {
        "id": "-Ni95IsbG_I1"
      },
      "outputs": [],
      "source": [
        "from sklearn.neighbors import NearestNeighbors\n",
        "from random import sample\n",
        "from numpy.random import uniform\n",
        "import numpy as np\n",
        "from math import isnan\n",
        "\n",
        "def hopkins(X):\n",
        "    d = X.shape[1]\n",
        "    #d = len(vars) # columns\n",
        "    n = len(X) # rows\n",
        "    m = int(0.1 * n)\n",
        "    nbrs = NearestNeighbors(n_neighbors=1).fit(X.values)\n",
        "\n",
        "    rand_X = sample(range(0, n, 1), m)\n",
        "\n",
        "    ujd = []\n",
        "    wjd = []\n",
        "    for j in range(0, m):\n",
        "        u_dist, _ = nbrs.kneighbors(uniform(np.amin(X,axis=0),np.amax(X,axis=0),d).reshape(1, -1), 2, return_distance=True)\n",
        "        ujd.append(u_dist[0][1])\n",
        "        w_dist, _ = nbrs.kneighbors(X.iloc[rand_X[j]].values.reshape(1, -1), 2, return_distance=True)\n",
        "        wjd.append(w_dist[0][1])\n",
        "\n",
        "    H = sum(ujd) / (sum(ujd) + sum(wjd))\n",
        "    if isnan(H):\n",
        "        print(ujd, wjd)\n",
        "        H = 0\n",
        "\n",
        "    return H"
      ]
    },
    {
      "cell_type": "code",
      "execution_count": null,
      "metadata": {
        "id": "E-Qqhk9lG_I1",
        "outputId": "fee67124-d90d-4f57-8dad-78205049d0a9"
      },
      "outputs": [
        {
          "data": {
            "text/html": [
              "<div>\n",
              "<style scoped>\n",
              "    .dataframe tbody tr th:only-of-type {\n",
              "        vertical-align: middle;\n",
              "    }\n",
              "\n",
              "    .dataframe tbody tr th {\n",
              "        vertical-align: top;\n",
              "    }\n",
              "\n",
              "    .dataframe thead th {\n",
              "        text-align: right;\n",
              "    }\n",
              "</style>\n",
              "<table border=\"1\" class=\"dataframe\">\n",
              "  <thead>\n",
              "    <tr style=\"text-align: right;\">\n",
              "      <th></th>\n",
              "      <th>country</th>\n",
              "      <th>child_mort</th>\n",
              "      <th>exports</th>\n",
              "      <th>health</th>\n",
              "      <th>imports</th>\n",
              "      <th>income</th>\n",
              "      <th>inflation</th>\n",
              "      <th>life_expec</th>\n",
              "      <th>total_fer</th>\n",
              "      <th>gdpp</th>\n",
              "    </tr>\n",
              "  </thead>\n",
              "  <tbody>\n",
              "    <tr>\n",
              "      <th>0</th>\n",
              "      <td>Afghanistan</td>\n",
              "      <td>90.2</td>\n",
              "      <td>55.30</td>\n",
              "      <td>41.9174</td>\n",
              "      <td>248.297</td>\n",
              "      <td>1610.0</td>\n",
              "      <td>9.44</td>\n",
              "      <td>56.2</td>\n",
              "      <td>5.82</td>\n",
              "      <td>553.0</td>\n",
              "    </tr>\n",
              "    <tr>\n",
              "      <th>1</th>\n",
              "      <td>Albania</td>\n",
              "      <td>16.6</td>\n",
              "      <td>1145.20</td>\n",
              "      <td>267.8950</td>\n",
              "      <td>1987.740</td>\n",
              "      <td>9930.0</td>\n",
              "      <td>4.49</td>\n",
              "      <td>76.3</td>\n",
              "      <td>1.65</td>\n",
              "      <td>4090.0</td>\n",
              "    </tr>\n",
              "    <tr>\n",
              "      <th>2</th>\n",
              "      <td>Algeria</td>\n",
              "      <td>27.3</td>\n",
              "      <td>1712.64</td>\n",
              "      <td>185.9820</td>\n",
              "      <td>1400.440</td>\n",
              "      <td>12900.0</td>\n",
              "      <td>16.10</td>\n",
              "      <td>76.5</td>\n",
              "      <td>2.89</td>\n",
              "      <td>4460.0</td>\n",
              "    </tr>\n",
              "    <tr>\n",
              "      <th>3</th>\n",
              "      <td>Angola</td>\n",
              "      <td>119.0</td>\n",
              "      <td>2199.19</td>\n",
              "      <td>100.6050</td>\n",
              "      <td>1514.370</td>\n",
              "      <td>5900.0</td>\n",
              "      <td>22.40</td>\n",
              "      <td>60.1</td>\n",
              "      <td>6.16</td>\n",
              "      <td>3530.0</td>\n",
              "    </tr>\n",
              "    <tr>\n",
              "      <th>4</th>\n",
              "      <td>Antigua and Barbuda</td>\n",
              "      <td>10.3</td>\n",
              "      <td>5551.00</td>\n",
              "      <td>735.6600</td>\n",
              "      <td>7185.800</td>\n",
              "      <td>19100.0</td>\n",
              "      <td>1.44</td>\n",
              "      <td>76.8</td>\n",
              "      <td>2.13</td>\n",
              "      <td>12200.0</td>\n",
              "    </tr>\n",
              "  </tbody>\n",
              "</table>\n",
              "</div>"
            ],
            "text/plain": [
              "               country  child_mort  exports    health   imports   income  \\\n",
              "0          Afghanistan        90.2    55.30   41.9174   248.297   1610.0   \n",
              "1              Albania        16.6  1145.20  267.8950  1987.740   9930.0   \n",
              "2              Algeria        27.3  1712.64  185.9820  1400.440  12900.0   \n",
              "3               Angola       119.0  2199.19  100.6050  1514.370   5900.0   \n",
              "4  Antigua and Barbuda        10.3  5551.00  735.6600  7185.800  19100.0   \n",
              "\n",
              "   inflation  life_expec  total_fer     gdpp  \n",
              "0       9.44        56.2       5.82    553.0  \n",
              "1       4.49        76.3       1.65   4090.0  \n",
              "2      16.10        76.5       2.89   4460.0  \n",
              "3      22.40        60.1       6.16   3530.0  \n",
              "4       1.44        76.8       2.13  12200.0  "
            ]
          },
          "execution_count": 26,
          "metadata": {},
          "output_type": "execute_result"
        }
      ],
      "source": [
        "df.head()"
      ]
    },
    {
      "cell_type": "code",
      "execution_count": null,
      "metadata": {
        "id": "Hs29nJoEG_I1",
        "outputId": "a67e101f-16e2-41d0-81aa-0c492daa6fe1"
      },
      "outputs": [
        {
          "data": {
            "text/plain": [
              "0.934082278636949"
            ]
          },
          "execution_count": 27,
          "metadata": {},
          "output_type": "execute_result"
        }
      ],
      "source": [
        "hopkins(df.drop('country', axis = 1))"
      ]
    },
    {
      "cell_type": "markdown",
      "metadata": {
        "id": "rTnarXEtG_I2"
      },
      "source": [
        "### 6. Feature Scaling"
      ]
    },
    {
      "cell_type": "code",
      "execution_count": null,
      "metadata": {
        "id": "rZH4WJ1jG_I2"
      },
      "outputs": [],
      "source": [
        "# importing scikit-learn libraries\n",
        "\n",
        "import sklearn\n",
        "from sklearn.preprocessing import MinMaxScaler\n",
        "from sklearn.preprocessing import StandardScaler\n",
        "from sklearn.metrics import silhouette_score\n",
        "from sklearn.cluster import KMeans\n",
        "from scipy.cluster.hierarchy import linkage\n",
        "from scipy.cluster.hierarchy import dendrogram\n",
        "from scipy.cluster.hierarchy import cut_tree"
      ]
    },
    {
      "cell_type": "code",
      "execution_count": null,
      "metadata": {
        "id": "4HuN2wzNG_I2",
        "outputId": "8a85936f-05b9-4867-a32b-77d01a957a85"
      },
      "outputs": [
        {
          "data": {
            "text/plain": [
              "array([[ 1.29153238, -0.56962212, -0.56695778, ..., -1.61909203,\n",
              "         1.92639646, -0.70225949],\n",
              "       [-0.5389489 , -0.47385792, -0.4403934 , ...,  0.64786643,\n",
              "        -0.86505432, -0.49872564],\n",
              "       [-0.27283273, -0.42399973, -0.48627082, ...,  0.67042323,\n",
              "        -0.03498262, -0.47743428],\n",
              "       ...,\n",
              "       [-0.37231541, -0.49160668, -0.54024972, ...,  0.28695762,\n",
              "        -0.66423052, -0.65869853],\n",
              "       [ 0.44841668, -0.53995007, -0.55242911, ..., -0.34463279,\n",
              "         1.15657191, -0.65869853],\n",
              "       [ 1.11495062, -0.52701632, -0.54227159, ..., -2.09278484,\n",
              "         1.64524315, -0.6500669 ]])"
            ]
          },
          "execution_count": 29,
          "metadata": {},
          "output_type": "execute_result"
        }
      ],
      "source": [
        "\n",
        "scaler = StandardScaler()\n",
        "df1 = scaler.fit_transform(df.drop('country', axis = 1))\n",
        "df1"
      ]
    },
    {
      "cell_type": "code",
      "execution_count": null,
      "metadata": {
        "id": "t05mMwo5G_I2",
        "outputId": "aecda51f-d60b-4eeb-a788-c46a2b8a386c"
      },
      "outputs": [
        {
          "data": {
            "text/html": [
              "<div>\n",
              "<style scoped>\n",
              "    .dataframe tbody tr th:only-of-type {\n",
              "        vertical-align: middle;\n",
              "    }\n",
              "\n",
              "    .dataframe tbody tr th {\n",
              "        vertical-align: top;\n",
              "    }\n",
              "\n",
              "    .dataframe thead th {\n",
              "        text-align: right;\n",
              "    }\n",
              "</style>\n",
              "<table border=\"1\" class=\"dataframe\">\n",
              "  <thead>\n",
              "    <tr style=\"text-align: right;\">\n",
              "      <th></th>\n",
              "      <th>child_mort</th>\n",
              "      <th>exports</th>\n",
              "      <th>health</th>\n",
              "      <th>imports</th>\n",
              "      <th>income</th>\n",
              "      <th>inflation</th>\n",
              "      <th>life_expec</th>\n",
              "      <th>total_fer</th>\n",
              "      <th>gdpp</th>\n",
              "    </tr>\n",
              "  </thead>\n",
              "  <tbody>\n",
              "    <tr>\n",
              "      <th>0</th>\n",
              "      <td>1.291532</td>\n",
              "      <td>-0.569622</td>\n",
              "      <td>-0.566958</td>\n",
              "      <td>-0.598741</td>\n",
              "      <td>-0.851668</td>\n",
              "      <td>0.265002</td>\n",
              "      <td>-1.619092</td>\n",
              "      <td>1.926396</td>\n",
              "      <td>-0.702259</td>\n",
              "    </tr>\n",
              "    <tr>\n",
              "      <th>1</th>\n",
              "      <td>-0.538949</td>\n",
              "      <td>-0.473858</td>\n",
              "      <td>-0.440393</td>\n",
              "      <td>-0.413584</td>\n",
              "      <td>-0.386946</td>\n",
              "      <td>-0.372075</td>\n",
              "      <td>0.647866</td>\n",
              "      <td>-0.865054</td>\n",
              "      <td>-0.498726</td>\n",
              "    </tr>\n",
              "    <tr>\n",
              "      <th>2</th>\n",
              "      <td>-0.272833</td>\n",
              "      <td>-0.424000</td>\n",
              "      <td>-0.486271</td>\n",
              "      <td>-0.476100</td>\n",
              "      <td>-0.221053</td>\n",
              "      <td>1.122161</td>\n",
              "      <td>0.670423</td>\n",
              "      <td>-0.034983</td>\n",
              "      <td>-0.477434</td>\n",
              "    </tr>\n",
              "    <tr>\n",
              "      <th>3</th>\n",
              "      <td>2.007808</td>\n",
              "      <td>-0.381249</td>\n",
              "      <td>-0.534088</td>\n",
              "      <td>-0.463973</td>\n",
              "      <td>-0.612045</td>\n",
              "      <td>1.932987</td>\n",
              "      <td>-1.179234</td>\n",
              "      <td>2.153997</td>\n",
              "      <td>-0.530950</td>\n",
              "    </tr>\n",
              "    <tr>\n",
              "      <th>4</th>\n",
              "      <td>-0.695634</td>\n",
              "      <td>-0.086742</td>\n",
              "      <td>-0.178410</td>\n",
              "      <td>0.139728</td>\n",
              "      <td>0.125254</td>\n",
              "      <td>-0.764618</td>\n",
              "      <td>0.704258</td>\n",
              "      <td>-0.543736</td>\n",
              "      <td>-0.032042</td>\n",
              "    </tr>\n",
              "  </tbody>\n",
              "</table>\n",
              "</div>"
            ],
            "text/plain": [
              "   child_mort   exports    health   imports    income  inflation  life_expec  \\\n",
              "0    1.291532 -0.569622 -0.566958 -0.598741 -0.851668   0.265002   -1.619092   \n",
              "1   -0.538949 -0.473858 -0.440393 -0.413584 -0.386946  -0.372075    0.647866   \n",
              "2   -0.272833 -0.424000 -0.486271 -0.476100 -0.221053   1.122161    0.670423   \n",
              "3    2.007808 -0.381249 -0.534088 -0.463973 -0.612045   1.932987   -1.179234   \n",
              "4   -0.695634 -0.086742 -0.178410  0.139728  0.125254  -0.764618    0.704258   \n",
              "\n",
              "   total_fer      gdpp  \n",
              "0   1.926396 -0.702259  \n",
              "1  -0.865054 -0.498726  \n",
              "2  -0.034983 -0.477434  \n",
              "3   2.153997 -0.530950  \n",
              "4  -0.543736 -0.032042  "
            ]
          },
          "execution_count": 30,
          "metadata": {},
          "output_type": "execute_result"
        }
      ],
      "source": [
        "df1 = pd.DataFrame(df1, columns = df.columns[1:])\n",
        "df1.head()"
      ]
    },
    {
      "cell_type": "code",
      "execution_count": null,
      "metadata": {
        "id": "RJr_HWwnG_I2",
        "outputId": "f8df2147-11e5-4413-db3a-9451e4fdaed9"
      },
      "outputs": [
        {
          "data": {
            "text/plain": [
              "(167, 9)"
            ]
          },
          "execution_count": 31,
          "metadata": {},
          "output_type": "execute_result"
        }
      ],
      "source": [
        "df1.shape"
      ]
    },
    {
      "cell_type": "markdown",
      "metadata": {
        "id": "P3-_8SI9G_I3"
      },
      "source": [
        "### 7. K - Mean Clustering"
      ]
    },
    {
      "cell_type": "code",
      "execution_count": null,
      "metadata": {
        "id": "BNMD-3MHG_I3",
        "outputId": "bd4153c4-708d-4a2e-e5fe-b7d67492e7a9"
      },
      "outputs": [
        {
          "name": "stdout",
          "output_type": "stream",
          "text": [
            "For n_clusters = 2 The average silhouette_score is : 0.46945658285687586\n",
            "For n_clusters = 3 The average silhouette_score is : 0.4035259981391569\n",
            "For n_clusters = 4 The average silhouette_score is : 0.3919682996098615\n",
            "For n_clusters = 5 The average silhouette_score is : 0.38416316490898117\n",
            "For n_clusters = 6 The average silhouette_score is : 0.2794504699835839\n",
            "For n_clusters = 7 The average silhouette_score is : 0.30744910306203266\n",
            "For n_clusters = 8 The average silhouette_score is : 0.32077928559271507\n",
            "For n_clusters = 9 The average silhouette_score is : 0.29800900621649495\n"
          ]
        },
        {
          "data": {
            "image/png": "[encoded data removed]",
            "text/plain": [
              "<Figure size 432x288 with 1 Axes>"
            ]
          },
          "metadata": {
            "needs_background": "light"
          },
          "output_type": "display_data"
        }
      ],
      "source": [
        "# Finding the silhouette score\n",
        "\n",
        "silhouette_scores = []\n",
        "K = range(2, 10)\n",
        "\n",
        "for k in K:\n",
        "    km = KMeans(n_clusters=k, init='k-means++', max_iter=300, n_init=10, random_state=45).fit_predict(df1)\n",
        "    scr = silhouette_score(df1, km)\n",
        "    silhouette_scores.append(scr)\n",
        "    print(\"For n_clusters =\", k, \"The average silhouette_score is :\", scr)\n",
        "plt.plot(K, silhouette_scores, 'bx-')\n",
        "plt.xlabel('k')\n",
        "plt.ylabel('Silhouette Score')\n",
        "plt.title('Silhouette Method For Optimal k')\n",
        "plt.show()"
      ]
    },
    {
      "cell_type": "markdown",
      "metadata": {
        "id": "2AMhIG_TG_I3"
      },
      "source": [
        "##### We can consider the Silhouette Score has 3 has its highest after 2."
      ]
    },
    {
      "cell_type": "code",
      "execution_count": null,
      "metadata": {
        "id": "YZdVO1zJG_I3",
        "outputId": "0f0cdd2e-f6a9-4fc9-e4a0-686f0164f99d"
      },
      "outputs": [
        {
          "data": {
            "text/plain": [
              "[<matplotlib.lines.Line2D at 0x15e431f0148>]"
            ]
          },
          "execution_count": 33,
          "metadata": {},
          "output_type": "execute_result"
        },
        {
          "data": {
            "image/png": "[encoded data removed]",
            "text/plain": [
              "<Figure size 432x288 with 1 Axes>"
            ]
          },
          "metadata": {
            "needs_background": "light"
          },
          "output_type": "display_data"
        }
      ],
      "source": [
        "ssd = []\n",
        "range_n_clusters = range(2, 11)\n",
        "for num_clusters in range_n_clusters:\n",
        "    kmeans = KMeans(n_clusters=num_clusters, max_iter=50)\n",
        "    kmeans.fit(df1)\n",
        "\n",
        "    ssd.append(kmeans.inertia_)\n",
        "\n",
        "# plot the SSDs for each n_clusters\n",
        "# ssd\n",
        "plt.plot(ssd)"
      ]
    },
    {
      "cell_type": "markdown",
      "metadata": {
        "id": "hor8NTdZG_I3"
      },
      "source": [
        "##### We see 2 elbow curve, one is pointing at x axis 1 which is 3 & another at x axis 2 which is  4, so we can consider the consider the least point 3 as K value, K = 3."
      ]
    },
    {
      "cell_type": "code",
      "execution_count": null,
      "metadata": {
        "id": "zaT_2X66G_I3",
        "outputId": "a8d5ed75-0b77-45ea-9a70-7f32fe0e2351"
      },
      "outputs": [
        {
          "data": {
            "text/plain": [
              "KMeans(algorithm='auto', copy_x=True, init='k-means++', max_iter=50,\n",
              "       n_clusters=3, n_init=10, n_jobs=None, precompute_distances='auto',\n",
              "       random_state=50, tol=0.0001, verbose=0)"
            ]
          },
          "execution_count": 34,
          "metadata": {},
          "output_type": "execute_result"
        }
      ],
      "source": [
        "# K-Mean with k =3\n",
        "kmeans = KMeans(n_clusters = 3, max_iter = 50, random_state= 50)\n",
        "kmeans.fit(df1)"
      ]
    },
    {
      "cell_type": "code",
      "execution_count": null,
      "metadata": {
        "id": "f4OZUDszG_I3",
        "outputId": "709a98a1-5f05-4517-a809-2394a628a107"
      },
      "outputs": [
        {
          "data": {
            "text/plain": [
              "array([2, 0, 0, 2, 0, 0, 0, 1, 1, 0, 0, 0, 0, 0, 0, 1, 0, 2, 0, 0, 0, 2,\n",
              "       0, 1, 0, 2, 2, 0, 2, 1, 0, 2, 2, 0, 0, 0, 2, 2, 2, 0, 2, 0, 1, 0,\n",
              "       1, 0, 0, 0, 0, 2, 2, 0, 0, 1, 1, 2, 2, 0, 1, 2, 0, 0, 0, 2, 2, 0,\n",
              "       2, 0, 1, 0, 0, 0, 2, 1, 0, 1, 0, 1, 0, 0, 2, 2, 1, 0, 2, 0, 0, 2,\n",
              "       2, 0, 0, 1, 0, 2, 2, 0, 0, 2, 1, 2, 0, 0, 0, 0, 0, 0, 2, 0, 2, 0,\n",
              "       1, 1, 2, 2, 1, 0, 2, 0, 0, 0, 0, 0, 0, 1, 0, 0, 2, 0, 0, 2, 0, 0,\n",
              "       2, 1, 0, 1, 2, 2, 0, 1, 0, 0, 2, 0, 1, 1, 0, 2, 0, 2, 2, 0, 0, 0,\n",
              "       0, 2, 0, 1, 1, 1, 0, 0, 0, 0, 0, 2, 2])"
            ]
          },
          "execution_count": 35,
          "metadata": {},
          "output_type": "execute_result"
        }
      ],
      "source": [
        "kmeans.labels_"
      ]
    },
    {
      "cell_type": "code",
      "execution_count": null,
      "metadata": {
        "id": "vMFNhOKaG_I3",
        "outputId": "80a1dca6-63e1-49d7-bc77-b71d66fddd05"
      },
      "outputs": [
        {
          "data": {
            "text/html": [
              "<div>\n",
              "<style scoped>\n",
              "    .dataframe tbody tr th:only-of-type {\n",
              "        vertical-align: middle;\n",
              "    }\n",
              "\n",
              "    .dataframe tbody tr th {\n",
              "        vertical-align: top;\n",
              "    }\n",
              "\n",
              "    .dataframe thead th {\n",
              "        text-align: right;\n",
              "    }\n",
              "</style>\n",
              "<table border=\"1\" class=\"dataframe\">\n",
              "  <thead>\n",
              "    <tr style=\"text-align: right;\">\n",
              "      <th></th>\n",
              "      <th>country</th>\n",
              "      <th>child_mort</th>\n",
              "      <th>exports</th>\n",
              "      <th>health</th>\n",
              "      <th>imports</th>\n",
              "      <th>income</th>\n",
              "      <th>inflation</th>\n",
              "      <th>life_expec</th>\n",
              "      <th>total_fer</th>\n",
              "      <th>gdpp</th>\n",
              "      <th>Kmean_cluster_num</th>\n",
              "    </tr>\n",
              "  </thead>\n",
              "  <tbody>\n",
              "    <tr>\n",
              "      <th>0</th>\n",
              "      <td>Afghanistan</td>\n",
              "      <td>90.2</td>\n",
              "      <td>55.30</td>\n",
              "      <td>41.9174</td>\n",
              "      <td>248.297</td>\n",
              "      <td>1610.0</td>\n",
              "      <td>9.440</td>\n",
              "      <td>56.2</td>\n",
              "      <td>5.82</td>\n",
              "      <td>553.0</td>\n",
              "      <td>2</td>\n",
              "    </tr>\n",
              "    <tr>\n",
              "      <th>1</th>\n",
              "      <td>Albania</td>\n",
              "      <td>16.6</td>\n",
              "      <td>1145.20</td>\n",
              "      <td>267.8950</td>\n",
              "      <td>1987.740</td>\n",
              "      <td>9930.0</td>\n",
              "      <td>4.490</td>\n",
              "      <td>76.3</td>\n",
              "      <td>1.65</td>\n",
              "      <td>4090.0</td>\n",
              "      <td>0</td>\n",
              "    </tr>\n",
              "    <tr>\n",
              "      <th>2</th>\n",
              "      <td>Algeria</td>\n",
              "      <td>27.3</td>\n",
              "      <td>1712.64</td>\n",
              "      <td>185.9820</td>\n",
              "      <td>1400.440</td>\n",
              "      <td>12900.0</td>\n",
              "      <td>16.100</td>\n",
              "      <td>76.5</td>\n",
              "      <td>2.89</td>\n",
              "      <td>4460.0</td>\n",
              "      <td>0</td>\n",
              "    </tr>\n",
              "    <tr>\n",
              "      <th>3</th>\n",
              "      <td>Angola</td>\n",
              "      <td>119.0</td>\n",
              "      <td>2199.19</td>\n",
              "      <td>100.6050</td>\n",
              "      <td>1514.370</td>\n",
              "      <td>5900.0</td>\n",
              "      <td>22.400</td>\n",
              "      <td>60.1</td>\n",
              "      <td>6.16</td>\n",
              "      <td>3530.0</td>\n",
              "      <td>2</td>\n",
              "    </tr>\n",
              "    <tr>\n",
              "      <th>4</th>\n",
              "      <td>Antigua and Barbuda</td>\n",
              "      <td>10.3</td>\n",
              "      <td>5551.00</td>\n",
              "      <td>735.6600</td>\n",
              "      <td>7185.800</td>\n",
              "      <td>19100.0</td>\n",
              "      <td>1.440</td>\n",
              "      <td>76.8</td>\n",
              "      <td>2.13</td>\n",
              "      <td>12200.0</td>\n",
              "      <td>0</td>\n",
              "    </tr>\n",
              "    <tr>\n",
              "      <th>5</th>\n",
              "      <td>Argentina</td>\n",
              "      <td>14.5</td>\n",
              "      <td>1946.70</td>\n",
              "      <td>834.3000</td>\n",
              "      <td>1648.000</td>\n",
              "      <td>18700.0</td>\n",
              "      <td>20.900</td>\n",
              "      <td>75.8</td>\n",
              "      <td>2.37</td>\n",
              "      <td>10300.0</td>\n",
              "      <td>0</td>\n",
              "    </tr>\n",
              "    <tr>\n",
              "      <th>6</th>\n",
              "      <td>Armenia</td>\n",
              "      <td>18.1</td>\n",
              "      <td>669.76</td>\n",
              "      <td>141.6800</td>\n",
              "      <td>1458.660</td>\n",
              "      <td>6700.0</td>\n",
              "      <td>7.770</td>\n",
              "      <td>73.3</td>\n",
              "      <td>1.69</td>\n",
              "      <td>3220.0</td>\n",
              "      <td>0</td>\n",
              "    </tr>\n",
              "    <tr>\n",
              "      <th>7</th>\n",
              "      <td>Australia</td>\n",
              "      <td>4.8</td>\n",
              "      <td>10276.20</td>\n",
              "      <td>4530.8700</td>\n",
              "      <td>10847.100</td>\n",
              "      <td>41400.0</td>\n",
              "      <td>1.160</td>\n",
              "      <td>82.0</td>\n",
              "      <td>1.93</td>\n",
              "      <td>51900.0</td>\n",
              "      <td>1</td>\n",
              "    </tr>\n",
              "    <tr>\n",
              "      <th>8</th>\n",
              "      <td>Austria</td>\n",
              "      <td>4.3</td>\n",
              "      <td>24059.70</td>\n",
              "      <td>5159.0000</td>\n",
              "      <td>22418.200</td>\n",
              "      <td>43200.0</td>\n",
              "      <td>0.873</td>\n",
              "      <td>80.5</td>\n",
              "      <td>1.44</td>\n",
              "      <td>46900.0</td>\n",
              "      <td>1</td>\n",
              "    </tr>\n",
              "    <tr>\n",
              "      <th>9</th>\n",
              "      <td>Azerbaijan</td>\n",
              "      <td>39.2</td>\n",
              "      <td>3171.12</td>\n",
              "      <td>343.3920</td>\n",
              "      <td>1208.880</td>\n",
              "      <td>16000.0</td>\n",
              "      <td>13.800</td>\n",
              "      <td>69.1</td>\n",
              "      <td>1.92</td>\n",
              "      <td>5840.0</td>\n",
              "      <td>0</td>\n",
              "    </tr>\n",
              "  </tbody>\n",
              "</table>\n",
              "</div>"
            ],
            "text/plain": [
              "               country  child_mort   exports     health    imports   income  \\\n",
              "0          Afghanistan        90.2     55.30    41.9174    248.297   1610.0   \n",
              "1              Albania        16.6   1145.20   267.8950   1987.740   9930.0   \n",
              "2              Algeria        27.3   1712.64   185.9820   1400.440  12900.0   \n",
              "3               Angola       119.0   2199.19   100.6050   1514.370   5900.0   \n",
              "4  Antigua and Barbuda        10.3   5551.00   735.6600   7185.800  19100.0   \n",
              "5            Argentina        14.5   1946.70   834.3000   1648.000  18700.0   \n",
              "6              Armenia        18.1    669.76   141.6800   1458.660   6700.0   \n",
              "7            Australia         4.8  10276.20  4530.8700  10847.100  41400.0   \n",
              "8              Austria         4.3  24059.70  5159.0000  22418.200  43200.0   \n",
              "9           Azerbaijan        39.2   3171.12   343.3920   1208.880  16000.0   \n",
              "\n",
              "   inflation  life_expec  total_fer     gdpp  Kmean_cluster_num  \n",
              "0      9.440        56.2       5.82    553.0                  2  \n",
              "1      4.490        76.3       1.65   4090.0                  0  \n",
              "2     16.100        76.5       2.89   4460.0                  0  \n",
              "3     22.400        60.1       6.16   3530.0                  2  \n",
              "4      1.440        76.8       2.13  12200.0                  0  \n",
              "5     20.900        75.8       2.37  10300.0                  0  \n",
              "6      7.770        73.3       1.69   3220.0                  0  \n",
              "7      1.160        82.0       1.93  51900.0                  1  \n",
              "8      0.873        80.5       1.44  46900.0                  1  \n",
              "9     13.800        69.1       1.92   5840.0                  0  "
            ]
          },
          "execution_count": 36,
          "metadata": {},
          "output_type": "execute_result"
        }
      ],
      "source": [
        "\n",
        "Final_Kmean = df.copy()\n",
        "Final_Kmean ['Kmean_cluster_num']= pd.Series(kmeans.labels_)\n",
        "Final_Kmean.head(10)"
      ]
    },
    {
      "cell_type": "code",
      "execution_count": null,
      "metadata": {
        "id": "zqm-0LVHG_I4",
        "outputId": "da3b71d4-fac5-4e3c-8bc5-7a8c55c4ff64"
      },
      "outputs": [
        {
          "data": {
            "text/plain": [
              "0    90\n",
              "2    48\n",
              "1    29\n",
              "Name: Kmean_cluster_num, dtype: int64"
            ]
          },
          "execution_count": 37,
          "metadata": {},
          "output_type": "execute_result"
        }
      ],
      "source": [
        "#Finding the Values of Kmean clustering numbers\n",
        "\n",
        "Final_Kmean.Kmean_cluster_num.value_counts()"
      ]
    },
    {
      "cell_type": "code",
      "execution_count": null,
      "metadata": {
        "id": "aXPY0aFjG_I4",
        "outputId": "9f350bc6-9e3a-4541-c7aa-cc0f2ce8514e"
      },
      "outputs": [
        {
          "data": {
            "image/png": "[encoded data removed]",
            "text/plain": [
              "<Figure size 720x360 with 1 Axes>"
            ]
          },
          "metadata": {
            "needs_background": "light"
          },
          "output_type": "display_data"
        }
      ],
      "source": [
        "plt.figure(figsize = (10,5))\n",
        "sns.scatterplot(x = 'income', y = 'child_mort', hue = 'Kmean_cluster_num', data = Final_Kmean, palette = 'dark')\n",
        "plt.title('Clustering of GDP per Capita vs Income', size=10)\n",
        "\n",
        "plt.show()"
      ]
    },
    {
      "cell_type": "code",
      "execution_count": null,
      "metadata": {
        "id": "jgIgp8nBG_I4",
        "outputId": "31844493-c8df-416e-9eea-ca31599dfa7e"
      },
      "outputs": [
        {
          "data": {
            "image/png": "[encoded data removed]",
            "text/plain": [
              "<Figure size 720x360 with 1 Axes>"
            ]
          },
          "metadata": {
            "needs_background": "light"
          },
          "output_type": "display_data"
        }
      ],
      "source": [
        "# Plotting the clusters\n",
        "plt.figure(figsize = (10,5))\n",
        "sns.scatterplot(x = 'gdpp', y = 'income', hue = 'Kmean_cluster_num', data = Final_Kmean, palette = 'rocket')\n",
        "plt.title('Clustering of Child Mortality vs Income', size=10)\n",
        "\n",
        "plt.show()"
      ]
    },
    {
      "cell_type": "code",
      "execution_count": null,
      "metadata": {
        "id": "iB4fXC4JG_I4",
        "outputId": "aa399610-61cc-4ab4-ac9b-7598461b8a2a"
      },
      "outputs": [
        {
          "data": {
            "image/png": "[encoded data removed]",
            "text/plain": [
              "<Figure size 720x360 with 1 Axes>"
            ]
          },
          "metadata": {
            "needs_background": "light"
          },
          "output_type": "display_data"
        }
      ],
      "source": [
        "plt.figure(figsize = (10,5))\n",
        "sns.scatterplot(x = 'child_mort', y = 'gdpp', hue = 'Kmean_cluster_num', data = Final_Kmean, palette = 'viridis')\n",
        "plt.title('Clustering of GDP per Capita vs Income', size=10)\n",
        "\n",
        "plt.show()"
      ]
    },
    {
      "cell_type": "code",
      "execution_count": null,
      "metadata": {
        "id": "CjQjxkJJG_I4",
        "outputId": "1290ab83-0961-4b14-dce9-be9a0753025f"
      },
      "outputs": [
        {
          "data": {
            "image/png": "[encoded data removed]",
            "text/plain": [
              "<Figure size 1440x504 with 3 Axes>"
            ]
          },
          "metadata": {
            "needs_background": "light"
          },
          "output_type": "display_data"
        }
      ],
      "source": [
        "# visualising the above clusters in barplot\n",
        "\n",
        "plt.figure(figsize=(20,7))\n",
        "plt.subplot(1,3,1)\n",
        "\n",
        "sns.barplot(x = 'Kmean_cluster_num', y = 'child_mort', data=Final_Kmean, palette=\"magma\")\n",
        "plt.title('Child Mortality')\n",
        "\n",
        "plt.subplot(1,3,2)\n",
        "sns.barplot(x = 'Kmean_cluster_num', y = 'income', data=Final_Kmean, palette=\"rocket\")\n",
        "plt.title('Income')\n",
        "\n",
        "plt.subplot(1,3,3)\n",
        "sns.barplot(x = 'Kmean_cluster_num', y = 'gdpp', data=Final_Kmean, palette=\"mako\")\n",
        "plt.title('GDP per Capita')\n",
        "\n",
        "plt.tight_layout()\n",
        "\n",
        "plt.show()"
      ]
    },
    {
      "cell_type": "markdown",
      "metadata": {
        "id": "isdUPz2vG_I4"
      },
      "source": [
        "#### Observations:\n",
        "1. Developed = Cluster 2 has highest Child Mortality rate with lowest Income and GDP per Capita.\n",
        "2. Under Developed = Cluster 1 has Lowest Child Mortality rate with highest Income and GDP per Capita.\n",
        "3. Developing = Cluster 0 has Low Child Mortality rate with low Income and GDP per Capita."
      ]
    },
    {
      "cell_type": "code",
      "execution_count": null,
      "metadata": {
        "id": "wx9mwtD0G_I4",
        "outputId": "d13a7464-8311-4986-da68-550537a888be"
      },
      "outputs": [
        {
          "data": {
            "text/html": [
              "<div>\n",
              "<style scoped>\n",
              "    .dataframe tbody tr th:only-of-type {\n",
              "        vertical-align: middle;\n",
              "    }\n",
              "\n",
              "    .dataframe tbody tr th {\n",
              "        vertical-align: top;\n",
              "    }\n",
              "\n",
              "    .dataframe thead th {\n",
              "        text-align: right;\n",
              "    }\n",
              "</style>\n",
              "<table border=\"1\" class=\"dataframe\">\n",
              "  <thead>\n",
              "    <tr style=\"text-align: right;\">\n",
              "      <th></th>\n",
              "      <th>country</th>\n",
              "      <th>child_mort</th>\n",
              "      <th>exports</th>\n",
              "      <th>health</th>\n",
              "      <th>imports</th>\n",
              "      <th>income</th>\n",
              "      <th>inflation</th>\n",
              "      <th>life_expec</th>\n",
              "      <th>total_fer</th>\n",
              "      <th>gdpp</th>\n",
              "      <th>Kmean_cluster_num</th>\n",
              "    </tr>\n",
              "  </thead>\n",
              "  <tbody>\n",
              "    <tr>\n",
              "      <th>0</th>\n",
              "      <td>Afghanistan</td>\n",
              "      <td>90.2</td>\n",
              "      <td>55.300</td>\n",
              "      <td>41.9174</td>\n",
              "      <td>248.297</td>\n",
              "      <td>1610.0</td>\n",
              "      <td>9.440</td>\n",
              "      <td>56.2</td>\n",
              "      <td>5.82</td>\n",
              "      <td>553.0</td>\n",
              "      <td>2</td>\n",
              "    </tr>\n",
              "    <tr>\n",
              "      <th>3</th>\n",
              "      <td>Angola</td>\n",
              "      <td>119.0</td>\n",
              "      <td>2199.190</td>\n",
              "      <td>100.6050</td>\n",
              "      <td>1514.370</td>\n",
              "      <td>5900.0</td>\n",
              "      <td>22.400</td>\n",
              "      <td>60.1</td>\n",
              "      <td>6.16</td>\n",
              "      <td>3530.0</td>\n",
              "      <td>2</td>\n",
              "    </tr>\n",
              "    <tr>\n",
              "      <th>17</th>\n",
              "      <td>Benin</td>\n",
              "      <td>111.0</td>\n",
              "      <td>180.404</td>\n",
              "      <td>31.0780</td>\n",
              "      <td>281.976</td>\n",
              "      <td>1820.0</td>\n",
              "      <td>0.885</td>\n",
              "      <td>61.8</td>\n",
              "      <td>5.36</td>\n",
              "      <td>758.0</td>\n",
              "      <td>2</td>\n",
              "    </tr>\n",
              "    <tr>\n",
              "      <th>21</th>\n",
              "      <td>Botswana</td>\n",
              "      <td>52.5</td>\n",
              "      <td>2768.600</td>\n",
              "      <td>527.0500</td>\n",
              "      <td>3257.550</td>\n",
              "      <td>13300.0</td>\n",
              "      <td>8.920</td>\n",
              "      <td>57.1</td>\n",
              "      <td>2.88</td>\n",
              "      <td>6350.0</td>\n",
              "      <td>2</td>\n",
              "    </tr>\n",
              "    <tr>\n",
              "      <th>25</th>\n",
              "      <td>Burkina Faso</td>\n",
              "      <td>116.0</td>\n",
              "      <td>110.400</td>\n",
              "      <td>38.7550</td>\n",
              "      <td>170.200</td>\n",
              "      <td>1430.0</td>\n",
              "      <td>6.810</td>\n",
              "      <td>57.9</td>\n",
              "      <td>5.87</td>\n",
              "      <td>575.0</td>\n",
              "      <td>2</td>\n",
              "    </tr>\n",
              "  </tbody>\n",
              "</table>\n",
              "</div>"
            ],
            "text/plain": [
              "         country  child_mort   exports    health   imports   income  \\\n",
              "0    Afghanistan        90.2    55.300   41.9174   248.297   1610.0   \n",
              "3         Angola       119.0  2199.190  100.6050  1514.370   5900.0   \n",
              "17         Benin       111.0   180.404   31.0780   281.976   1820.0   \n",
              "21      Botswana        52.5  2768.600  527.0500  3257.550  13300.0   \n",
              "25  Burkina Faso       116.0   110.400   38.7550   170.200   1430.0   \n",
              "\n",
              "    inflation  life_expec  total_fer    gdpp  Kmean_cluster_num  \n",
              "0       9.440        56.2       5.82   553.0                  2  \n",
              "3      22.400        60.1       6.16  3530.0                  2  \n",
              "17      0.885        61.8       5.36   758.0                  2  \n",
              "21      8.920        57.1       2.88  6350.0                  2  \n",
              "25      6.810        57.9       5.87   575.0                  2  "
            ]
          },
          "execution_count": 42,
          "metadata": {},
          "output_type": "execute_result"
        }
      ],
      "source": [
        "# Qucik Insight into the countries that forms Cluster under 2\n",
        "\n",
        "Countries_in_Cluster2 = Final_Kmean[Final_Kmean['Kmean_cluster_num'] == 2]\n",
        "Countries_in_Cluster2.head()"
      ]
    },
    {
      "cell_type": "code",
      "execution_count": null,
      "metadata": {
        "id": "VmJsP_YwG_I5",
        "outputId": "a5689930-1d83-47f8-c39b-741f07915889"
      },
      "outputs": [
        {
          "data": {
            "text/html": [
              "<div>\n",
              "<style scoped>\n",
              "    .dataframe tbody tr th:only-of-type {\n",
              "        vertical-align: middle;\n",
              "    }\n",
              "\n",
              "    .dataframe tbody tr th {\n",
              "        vertical-align: top;\n",
              "    }\n",
              "\n",
              "    .dataframe thead th {\n",
              "        text-align: right;\n",
              "    }\n",
              "</style>\n",
              "<table border=\"1\" class=\"dataframe\">\n",
              "  <thead>\n",
              "    <tr style=\"text-align: right;\">\n",
              "      <th></th>\n",
              "      <th>country</th>\n",
              "      <th>child_mort</th>\n",
              "      <th>exports</th>\n",
              "      <th>health</th>\n",
              "      <th>imports</th>\n",
              "      <th>income</th>\n",
              "      <th>inflation</th>\n",
              "      <th>life_expec</th>\n",
              "      <th>total_fer</th>\n",
              "      <th>gdpp</th>\n",
              "      <th>Kmean_cluster_num</th>\n",
              "    </tr>\n",
              "  </thead>\n",
              "  <tbody>\n",
              "    <tr>\n",
              "      <th>1</th>\n",
              "      <td>Albania</td>\n",
              "      <td>16.6</td>\n",
              "      <td>1145.20</td>\n",
              "      <td>267.895</td>\n",
              "      <td>1987.74</td>\n",
              "      <td>9930.0</td>\n",
              "      <td>4.49</td>\n",
              "      <td>76.3</td>\n",
              "      <td>1.65</td>\n",
              "      <td>4090.0</td>\n",
              "      <td>0</td>\n",
              "    </tr>\n",
              "    <tr>\n",
              "      <th>2</th>\n",
              "      <td>Algeria</td>\n",
              "      <td>27.3</td>\n",
              "      <td>1712.64</td>\n",
              "      <td>185.982</td>\n",
              "      <td>1400.44</td>\n",
              "      <td>12900.0</td>\n",
              "      <td>16.10</td>\n",
              "      <td>76.5</td>\n",
              "      <td>2.89</td>\n",
              "      <td>4460.0</td>\n",
              "      <td>0</td>\n",
              "    </tr>\n",
              "    <tr>\n",
              "      <th>4</th>\n",
              "      <td>Antigua and Barbuda</td>\n",
              "      <td>10.3</td>\n",
              "      <td>5551.00</td>\n",
              "      <td>735.660</td>\n",
              "      <td>7185.80</td>\n",
              "      <td>19100.0</td>\n",
              "      <td>1.44</td>\n",
              "      <td>76.8</td>\n",
              "      <td>2.13</td>\n",
              "      <td>12200.0</td>\n",
              "      <td>0</td>\n",
              "    </tr>\n",
              "    <tr>\n",
              "      <th>5</th>\n",
              "      <td>Argentina</td>\n",
              "      <td>14.5</td>\n",
              "      <td>1946.70</td>\n",
              "      <td>834.300</td>\n",
              "      <td>1648.00</td>\n",
              "      <td>18700.0</td>\n",
              "      <td>20.90</td>\n",
              "      <td>75.8</td>\n",
              "      <td>2.37</td>\n",
              "      <td>10300.0</td>\n",
              "      <td>0</td>\n",
              "    </tr>\n",
              "    <tr>\n",
              "      <th>6</th>\n",
              "      <td>Armenia</td>\n",
              "      <td>18.1</td>\n",
              "      <td>669.76</td>\n",
              "      <td>141.680</td>\n",
              "      <td>1458.66</td>\n",
              "      <td>6700.0</td>\n",
              "      <td>7.77</td>\n",
              "      <td>73.3</td>\n",
              "      <td>1.69</td>\n",
              "      <td>3220.0</td>\n",
              "      <td>0</td>\n",
              "    </tr>\n",
              "  </tbody>\n",
              "</table>\n",
              "</div>"
            ],
            "text/plain": [
              "               country  child_mort  exports   health  imports   income  \\\n",
              "1              Albania        16.6  1145.20  267.895  1987.74   9930.0   \n",
              "2              Algeria        27.3  1712.64  185.982  1400.44  12900.0   \n",
              "4  Antigua and Barbuda        10.3  5551.00  735.660  7185.80  19100.0   \n",
              "5            Argentina        14.5  1946.70  834.300  1648.00  18700.0   \n",
              "6              Armenia        18.1   669.76  141.680  1458.66   6700.0   \n",
              "\n",
              "   inflation  life_expec  total_fer     gdpp  Kmean_cluster_num  \n",
              "1       4.49        76.3       1.65   4090.0                  0  \n",
              "2      16.10        76.5       2.89   4460.0                  0  \n",
              "4       1.44        76.8       2.13  12200.0                  0  \n",
              "5      20.90        75.8       2.37  10300.0                  0  \n",
              "6       7.77        73.3       1.69   3220.0                  0  "
            ]
          },
          "execution_count": 43,
          "metadata": {},
          "output_type": "execute_result"
        }
      ],
      "source": [
        "# Qucik Insight into the countries that forms Cluster under 0\n",
        "\n",
        "Countries_in_Cluster0 = Final_Kmean[Final_Kmean['Kmean_cluster_num'] == 0]\n",
        "Countries_in_Cluster0.head()"
      ]
    },
    {
      "cell_type": "code",
      "execution_count": null,
      "metadata": {
        "id": "K6SzEMYPG_I5",
        "outputId": "0561840b-4cf1-42b4-ec65-7fec2f6e6d27"
      },
      "outputs": [
        {
          "data": {
            "text/html": [
              "<div>\n",
              "<style scoped>\n",
              "    .dataframe tbody tr th:only-of-type {\n",
              "        vertical-align: middle;\n",
              "    }\n",
              "\n",
              "    .dataframe tbody tr th {\n",
              "        vertical-align: top;\n",
              "    }\n",
              "\n",
              "    .dataframe thead th {\n",
              "        text-align: right;\n",
              "    }\n",
              "</style>\n",
              "<table border=\"1\" class=\"dataframe\">\n",
              "  <thead>\n",
              "    <tr style=\"text-align: right;\">\n",
              "      <th></th>\n",
              "      <th>country</th>\n",
              "      <th>child_mort</th>\n",
              "      <th>exports</th>\n",
              "      <th>health</th>\n",
              "      <th>imports</th>\n",
              "      <th>income</th>\n",
              "      <th>inflation</th>\n",
              "      <th>life_expec</th>\n",
              "      <th>total_fer</th>\n",
              "      <th>gdpp</th>\n",
              "      <th>Kmean_cluster_num</th>\n",
              "    </tr>\n",
              "  </thead>\n",
              "  <tbody>\n",
              "    <tr>\n",
              "      <th>7</th>\n",
              "      <td>Australia</td>\n",
              "      <td>4.8</td>\n",
              "      <td>10276.2</td>\n",
              "      <td>4530.87</td>\n",
              "      <td>10847.1</td>\n",
              "      <td>41400.0</td>\n",
              "      <td>1.160</td>\n",
              "      <td>82.0</td>\n",
              "      <td>1.93</td>\n",
              "      <td>51900.0</td>\n",
              "      <td>1</td>\n",
              "    </tr>\n",
              "    <tr>\n",
              "      <th>8</th>\n",
              "      <td>Austria</td>\n",
              "      <td>4.3</td>\n",
              "      <td>24059.7</td>\n",
              "      <td>5159.00</td>\n",
              "      <td>22418.2</td>\n",
              "      <td>43200.0</td>\n",
              "      <td>0.873</td>\n",
              "      <td>80.5</td>\n",
              "      <td>1.44</td>\n",
              "      <td>46900.0</td>\n",
              "      <td>1</td>\n",
              "    </tr>\n",
              "    <tr>\n",
              "      <th>15</th>\n",
              "      <td>Belgium</td>\n",
              "      <td>4.5</td>\n",
              "      <td>33921.6</td>\n",
              "      <td>4750.80</td>\n",
              "      <td>33166.8</td>\n",
              "      <td>41100.0</td>\n",
              "      <td>1.880</td>\n",
              "      <td>80.0</td>\n",
              "      <td>1.86</td>\n",
              "      <td>44400.0</td>\n",
              "      <td>1</td>\n",
              "    </tr>\n",
              "    <tr>\n",
              "      <th>23</th>\n",
              "      <td>Brunei</td>\n",
              "      <td>10.5</td>\n",
              "      <td>23792.2</td>\n",
              "      <td>1002.52</td>\n",
              "      <td>9884.0</td>\n",
              "      <td>80600.0</td>\n",
              "      <td>16.700</td>\n",
              "      <td>77.1</td>\n",
              "      <td>1.84</td>\n",
              "      <td>35300.0</td>\n",
              "      <td>1</td>\n",
              "    </tr>\n",
              "    <tr>\n",
              "      <th>29</th>\n",
              "      <td>Canada</td>\n",
              "      <td>5.6</td>\n",
              "      <td>13793.4</td>\n",
              "      <td>5356.20</td>\n",
              "      <td>14694.0</td>\n",
              "      <td>40700.0</td>\n",
              "      <td>2.870</td>\n",
              "      <td>81.3</td>\n",
              "      <td>1.63</td>\n",
              "      <td>47400.0</td>\n",
              "      <td>1</td>\n",
              "    </tr>\n",
              "  </tbody>\n",
              "</table>\n",
              "</div>"
            ],
            "text/plain": [
              "      country  child_mort  exports   health  imports   income  inflation  \\\n",
              "7   Australia         4.8  10276.2  4530.87  10847.1  41400.0      1.160   \n",
              "8     Austria         4.3  24059.7  5159.00  22418.2  43200.0      0.873   \n",
              "15    Belgium         4.5  33921.6  4750.80  33166.8  41100.0      1.880   \n",
              "23     Brunei        10.5  23792.2  1002.52   9884.0  80600.0     16.700   \n",
              "29     Canada         5.6  13793.4  5356.20  14694.0  40700.0      2.870   \n",
              "\n",
              "    life_expec  total_fer     gdpp  Kmean_cluster_num  \n",
              "7         82.0       1.93  51900.0                  1  \n",
              "8         80.5       1.44  46900.0                  1  \n",
              "15        80.0       1.86  44400.0                  1  \n",
              "23        77.1       1.84  35300.0                  1  \n",
              "29        81.3       1.63  47400.0                  1  "
            ]
          },
          "execution_count": 44,
          "metadata": {},
          "output_type": "execute_result"
        }
      ],
      "source": [
        "# Qucik Insight into the countries that forms Cluster under 1\n",
        "\n",
        "Countries_in_Cluster1 = Final_Kmean[Final_Kmean['Kmean_cluster_num'] == 1]\n",
        "Countries_in_Cluster1.head()"
      ]
    },
    {
      "cell_type": "markdown",
      "metadata": {
        "id": "8JBVidEZG_I5"
      },
      "source": [
        "### 8. Cluster profilling of 3 cluster types with countries child mortality, income and GDP"
      ]
    },
    {
      "cell_type": "code",
      "execution_count": null,
      "metadata": {
        "id": "__ZR7HUgG_I5",
        "outputId": "c0c5f6a9-44b4-4d14-d921-05f4c41c2b6a"
      },
      "outputs": [
        {
          "data": {
            "text/plain": [
              "<bound method IndexOpsMixin.value_counts of 0              Afghanistan\n",
              "1                  Albania\n",
              "2                  Algeria\n",
              "3                   Angola\n",
              "4      Antigua and Barbuda\n",
              "              ...         \n",
              "162                Vanuatu\n",
              "163              Venezuela\n",
              "164                Vietnam\n",
              "165                  Yemen\n",
              "166                 Zambia\n",
              "Name: country, Length: 167, dtype: object>"
            ]
          },
          "execution_count": 45,
          "metadata": {},
          "output_type": "execute_result"
        }
      ],
      "source": [
        "Final_Kmean.country.value_counts"
      ]
    },
    {
      "cell_type": "code",
      "execution_count": null,
      "metadata": {
        "id": "1gXllqoBG_I5",
        "outputId": "8e85ce93-adcb-40ff-f012-a06a3ca2a437"
      },
      "outputs": [
        {
          "data": {
            "text/html": [
              "<div>\n",
              "<style scoped>\n",
              "    .dataframe tbody tr th:only-of-type {\n",
              "        vertical-align: middle;\n",
              "    }\n",
              "\n",
              "    .dataframe tbody tr th {\n",
              "        vertical-align: top;\n",
              "    }\n",
              "\n",
              "    .dataframe thead th {\n",
              "        text-align: right;\n",
              "    }\n",
              "</style>\n",
              "<table border=\"1\" class=\"dataframe\">\n",
              "  <thead>\n",
              "    <tr style=\"text-align: right;\">\n",
              "      <th></th>\n",
              "      <th>country</th>\n",
              "      <th>child_mort</th>\n",
              "      <th>exports</th>\n",
              "      <th>health</th>\n",
              "      <th>imports</th>\n",
              "      <th>income</th>\n",
              "      <th>inflation</th>\n",
              "      <th>life_expec</th>\n",
              "      <th>total_fer</th>\n",
              "      <th>gdpp</th>\n",
              "      <th>Kmean_cluster_num</th>\n",
              "    </tr>\n",
              "  </thead>\n",
              "  <tbody>\n",
              "    <tr>\n",
              "      <th>66</th>\n",
              "      <td>Haiti</td>\n",
              "      <td>208.0</td>\n",
              "      <td>101.286</td>\n",
              "      <td>45.7442</td>\n",
              "      <td>428.314</td>\n",
              "      <td>1500.0</td>\n",
              "      <td>5.45</td>\n",
              "      <td>32.1</td>\n",
              "      <td>3.3300</td>\n",
              "      <td>662.0</td>\n",
              "      <td>2</td>\n",
              "    </tr>\n",
              "    <tr>\n",
              "      <th>132</th>\n",
              "      <td>Sierra Leone</td>\n",
              "      <td>160.0</td>\n",
              "      <td>67.032</td>\n",
              "      <td>52.2690</td>\n",
              "      <td>137.655</td>\n",
              "      <td>1220.0</td>\n",
              "      <td>17.20</td>\n",
              "      <td>55.0</td>\n",
              "      <td>5.2000</td>\n",
              "      <td>399.0</td>\n",
              "      <td>2</td>\n",
              "    </tr>\n",
              "    <tr>\n",
              "      <th>32</th>\n",
              "      <td>Chad</td>\n",
              "      <td>150.0</td>\n",
              "      <td>330.096</td>\n",
              "      <td>40.6341</td>\n",
              "      <td>390.195</td>\n",
              "      <td>1930.0</td>\n",
              "      <td>6.39</td>\n",
              "      <td>56.5</td>\n",
              "      <td>6.5636</td>\n",
              "      <td>897.0</td>\n",
              "      <td>2</td>\n",
              "    </tr>\n",
              "    <tr>\n",
              "      <th>31</th>\n",
              "      <td>Central African Republic</td>\n",
              "      <td>149.0</td>\n",
              "      <td>52.628</td>\n",
              "      <td>17.7508</td>\n",
              "      <td>118.190</td>\n",
              "      <td>888.0</td>\n",
              "      <td>2.01</td>\n",
              "      <td>47.5</td>\n",
              "      <td>5.2100</td>\n",
              "      <td>446.0</td>\n",
              "      <td>2</td>\n",
              "    </tr>\n",
              "    <tr>\n",
              "      <th>97</th>\n",
              "      <td>Mali</td>\n",
              "      <td>137.0</td>\n",
              "      <td>161.424</td>\n",
              "      <td>35.2584</td>\n",
              "      <td>248.508</td>\n",
              "      <td>1870.0</td>\n",
              "      <td>4.37</td>\n",
              "      <td>59.5</td>\n",
              "      <td>6.5500</td>\n",
              "      <td>708.0</td>\n",
              "      <td>2</td>\n",
              "    </tr>\n",
              "  </tbody>\n",
              "</table>\n",
              "</div>"
            ],
            "text/plain": [
              "                      country  child_mort  exports   health  imports  income  \\\n",
              "66                      Haiti       208.0  101.286  45.7442  428.314  1500.0   \n",
              "132              Sierra Leone       160.0   67.032  52.2690  137.655  1220.0   \n",
              "32                       Chad       150.0  330.096  40.6341  390.195  1930.0   \n",
              "31   Central African Republic       149.0   52.628  17.7508  118.190   888.0   \n",
              "97                       Mali       137.0  161.424  35.2584  248.508  1870.0   \n",
              "\n",
              "     inflation  life_expec  total_fer   gdpp  Kmean_cluster_num  \n",
              "66        5.45        32.1     3.3300  662.0                  2  \n",
              "132      17.20        55.0     5.2000  399.0                  2  \n",
              "32        6.39        56.5     6.5636  897.0                  2  \n",
              "31        2.01        47.5     5.2100  446.0                  2  \n",
              "97        4.37        59.5     6.5500  708.0                  2  "
            ]
          },
          "execution_count": 46,
          "metadata": {},
          "output_type": "execute_result"
        }
      ],
      "source": [
        "# Sorting based on high child mortality, low income and GDP\n",
        "\n",
        "Sorting_Countries=Final_Kmean[Final_Kmean['Kmean_cluster_num'] == 2].sort_values(by = ['child_mort','income', 'gdpp'], ascending = [False, True, True])\n",
        "Sorting_Countries.head()"
      ]
    },
    {
      "cell_type": "code",
      "execution_count": null,
      "metadata": {
        "id": "7wMb18VlG_I5",
        "outputId": "e4585905-062c-460a-f0d2-76e898806b79"
      },
      "outputs": [
        {
          "data": {
            "text/html": [
              "<div>\n",
              "<style scoped>\n",
              "    .dataframe tbody tr th:only-of-type {\n",
              "        vertical-align: middle;\n",
              "    }\n",
              "\n",
              "    .dataframe tbody tr th {\n",
              "        vertical-align: top;\n",
              "    }\n",
              "\n",
              "    .dataframe thead th {\n",
              "        text-align: right;\n",
              "    }\n",
              "</style>\n",
              "<table border=\"1\" class=\"dataframe\">\n",
              "  <thead>\n",
              "    <tr style=\"text-align: right;\">\n",
              "      <th></th>\n",
              "      <th>country</th>\n",
              "    </tr>\n",
              "  </thead>\n",
              "  <tbody>\n",
              "    <tr>\n",
              "      <th>0</th>\n",
              "      <td>Haiti</td>\n",
              "    </tr>\n",
              "    <tr>\n",
              "      <th>1</th>\n",
              "      <td>Sierra Leone</td>\n",
              "    </tr>\n",
              "    <tr>\n",
              "      <th>2</th>\n",
              "      <td>Chad</td>\n",
              "    </tr>\n",
              "    <tr>\n",
              "      <th>3</th>\n",
              "      <td>Central African Republic</td>\n",
              "    </tr>\n",
              "    <tr>\n",
              "      <th>4</th>\n",
              "      <td>Mali</td>\n",
              "    </tr>\n",
              "  </tbody>\n",
              "</table>\n",
              "</div>"
            ],
            "text/plain": [
              "                    country\n",
              "0                     Haiti\n",
              "1              Sierra Leone\n",
              "2                      Chad\n",
              "3  Central African Republic\n",
              "4                      Mali"
            ]
          },
          "execution_count": 47,
          "metadata": {},
          "output_type": "execute_result"
        }
      ],
      "source": [
        "Sorting_Countries_head=Sorting_Countries[['country']]\n",
        "Sorting_Countries_head= Sorting_Countries_head.reset_index(drop=True)\n",
        "Sorting_Countries_head.head()"
      ]
    },
    {
      "cell_type": "code",
      "execution_count": null,
      "metadata": {
        "id": "exolK4R6G_I6",
        "outputId": "ad769512-cf94-4ada-a8c2-d7fd4ed32e06"
      },
      "outputs": [
        {
          "data": {
            "text/html": [
              "<div>\n",
              "<style scoped>\n",
              "    .dataframe tbody tr th:only-of-type {\n",
              "        vertical-align: middle;\n",
              "    }\n",
              "\n",
              "    .dataframe tbody tr th {\n",
              "        vertical-align: top;\n",
              "    }\n",
              "\n",
              "    .dataframe thead th {\n",
              "        text-align: right;\n",
              "    }\n",
              "</style>\n",
              "<table border=\"1\" class=\"dataframe\">\n",
              "  <thead>\n",
              "    <tr style=\"text-align: right;\">\n",
              "      <th></th>\n",
              "      <th>child_mort</th>\n",
              "      <th>exports</th>\n",
              "      <th>health</th>\n",
              "      <th>imports</th>\n",
              "      <th>income</th>\n",
              "      <th>inflation</th>\n",
              "      <th>life_expec</th>\n",
              "      <th>total_fer</th>\n",
              "      <th>gdpp</th>\n",
              "    </tr>\n",
              "    <tr>\n",
              "      <th>Kmean_cluster_num</th>\n",
              "      <th></th>\n",
              "      <th></th>\n",
              "      <th></th>\n",
              "      <th></th>\n",
              "      <th></th>\n",
              "      <th></th>\n",
              "      <th></th>\n",
              "      <th></th>\n",
              "      <th></th>\n",
              "    </tr>\n",
              "  </thead>\n",
              "  <tbody>\n",
              "    <tr>\n",
              "      <th>2</th>\n",
              "      <td>91.610417</td>\n",
              "      <td>879.063521</td>\n",
              "      <td>114.821765</td>\n",
              "      <td>827.028771</td>\n",
              "      <td>3897.354167</td>\n",
              "      <td>10.608604</td>\n",
              "      <td>59.239583</td>\n",
              "      <td>4.972233</td>\n",
              "      <td>1909.208333</td>\n",
              "    </tr>\n",
              "    <tr>\n",
              "      <th>0</th>\n",
              "      <td>20.547778</td>\n",
              "      <td>3477.015539</td>\n",
              "      <td>528.894338</td>\n",
              "      <td>3588.133568</td>\n",
              "      <td>13804.333333</td>\n",
              "      <td>7.110944</td>\n",
              "      <td>73.393333</td>\n",
              "      <td>2.242444</td>\n",
              "      <td>7808.577778</td>\n",
              "    </tr>\n",
              "    <tr>\n",
              "      <th>1</th>\n",
              "      <td>4.982759</td>\n",
              "      <td>25405.359310</td>\n",
              "      <td>4239.330028</td>\n",
              "      <td>21316.695862</td>\n",
              "      <td>47784.413793</td>\n",
              "      <td>2.876690</td>\n",
              "      <td>80.479310</td>\n",
              "      <td>1.754138</td>\n",
              "      <td>46068.137931</td>\n",
              "    </tr>\n",
              "  </tbody>\n",
              "</table>\n",
              "</div>"
            ],
            "text/plain": [
              "                   child_mort       exports       health       imports  \\\n",
              "Kmean_cluster_num                                                        \n",
              "2                   91.610417    879.063521   114.821765    827.028771   \n",
              "0                   20.547778   3477.015539   528.894338   3588.133568   \n",
              "1                    4.982759  25405.359310  4239.330028  21316.695862   \n",
              "\n",
              "                         income  inflation  life_expec  total_fer  \\\n",
              "Kmean_cluster_num                                                   \n",
              "2                   3897.354167  10.608604   59.239583   4.972233   \n",
              "0                  13804.333333   7.110944   73.393333   2.242444   \n",
              "1                  47784.413793   2.876690   80.479310   1.754138   \n",
              "\n",
              "                           gdpp  \n",
              "Kmean_cluster_num                \n",
              "2                   1909.208333  \n",
              "0                   7808.577778  \n",
              "1                  46068.137931  "
            ]
          },
          "execution_count": 48,
          "metadata": {},
          "output_type": "execute_result"
        }
      ],
      "source": [
        "# Creating a new df for clustering mean for further analysis\n",
        "\n",
        "Cluster_mean = Final_Kmean.groupby(['Kmean_cluster_num']).mean().sort_values(['child_mort','income','gdpp'],ascending = [False,True,True])\n",
        "Cluster_mean"
      ]
    },
    {
      "cell_type": "code",
      "execution_count": null,
      "metadata": {
        "id": "bRfUfofYG_I6",
        "outputId": "8d58bc47-3788-4308-ae9f-15d91abfedfa"
      },
      "outputs": [
        {
          "data": {
            "text/html": [
              "<div>\n",
              "<style scoped>\n",
              "    .dataframe tbody tr th:only-of-type {\n",
              "        vertical-align: middle;\n",
              "    }\n",
              "\n",
              "    .dataframe tbody tr th {\n",
              "        vertical-align: top;\n",
              "    }\n",
              "\n",
              "    .dataframe thead th {\n",
              "        text-align: right;\n",
              "    }\n",
              "</style>\n",
              "<table border=\"1\" class=\"dataframe\">\n",
              "  <thead>\n",
              "    <tr style=\"text-align: right;\">\n",
              "      <th></th>\n",
              "      <th>child_mort</th>\n",
              "      <th>exports</th>\n",
              "      <th>health</th>\n",
              "      <th>imports</th>\n",
              "      <th>income</th>\n",
              "      <th>inflation</th>\n",
              "      <th>life_expec</th>\n",
              "      <th>total_fer</th>\n",
              "      <th>gdpp</th>\n",
              "      <th>row_counts</th>\n",
              "    </tr>\n",
              "    <tr>\n",
              "      <th>Kmean_cluster_num</th>\n",
              "      <th></th>\n",
              "      <th></th>\n",
              "      <th></th>\n",
              "      <th></th>\n",
              "      <th></th>\n",
              "      <th></th>\n",
              "      <th></th>\n",
              "      <th></th>\n",
              "      <th></th>\n",
              "      <th></th>\n",
              "    </tr>\n",
              "  </thead>\n",
              "  <tbody>\n",
              "    <tr>\n",
              "      <th>2</th>\n",
              "      <td>91.610417</td>\n",
              "      <td>879.063521</td>\n",
              "      <td>114.821765</td>\n",
              "      <td>827.028771</td>\n",
              "      <td>3897.354167</td>\n",
              "      <td>10.608604</td>\n",
              "      <td>59.239583</td>\n",
              "      <td>4.972233</td>\n",
              "      <td>1909.208333</td>\n",
              "      <td>48</td>\n",
              "    </tr>\n",
              "    <tr>\n",
              "      <th>0</th>\n",
              "      <td>20.547778</td>\n",
              "      <td>3477.015539</td>\n",
              "      <td>528.894338</td>\n",
              "      <td>3588.133568</td>\n",
              "      <td>13804.333333</td>\n",
              "      <td>7.110944</td>\n",
              "      <td>73.393333</td>\n",
              "      <td>2.242444</td>\n",
              "      <td>7808.577778</td>\n",
              "      <td>90</td>\n",
              "    </tr>\n",
              "    <tr>\n",
              "      <th>1</th>\n",
              "      <td>4.982759</td>\n",
              "      <td>25405.359310</td>\n",
              "      <td>4239.330028</td>\n",
              "      <td>21316.695862</td>\n",
              "      <td>47784.413793</td>\n",
              "      <td>2.876690</td>\n",
              "      <td>80.479310</td>\n",
              "      <td>1.754138</td>\n",
              "      <td>46068.137931</td>\n",
              "      <td>29</td>\n",
              "    </tr>\n",
              "  </tbody>\n",
              "</table>\n",
              "</div>"
            ],
            "text/plain": [
              "                   child_mort       exports       health       imports  \\\n",
              "Kmean_cluster_num                                                        \n",
              "2                   91.610417    879.063521   114.821765    827.028771   \n",
              "0                   20.547778   3477.015539   528.894338   3588.133568   \n",
              "1                    4.982759  25405.359310  4239.330028  21316.695862   \n",
              "\n",
              "                         income  inflation  life_expec  total_fer  \\\n",
              "Kmean_cluster_num                                                   \n",
              "2                   3897.354167  10.608604   59.239583   4.972233   \n",
              "0                  13804.333333   7.110944   73.393333   2.242444   \n",
              "1                  47784.413793   2.876690   80.479310   1.754138   \n",
              "\n",
              "                           gdpp  row_counts  \n",
              "Kmean_cluster_num                            \n",
              "2                   1909.208333          48  \n",
              "0                   7808.577778          90  \n",
              "1                  46068.137931          29  "
            ]
          },
          "execution_count": 49,
          "metadata": {},
          "output_type": "execute_result"
        }
      ],
      "source": [
        "# Grouping the number of rows that form each clusters\n",
        "\n",
        "Cluster_mean['row_counts']=Final_Kmean[['child_mort','Kmean_cluster_num']].groupby(['Kmean_cluster_num']).count()\n",
        "Cluster_mean"
      ]
    },
    {
      "cell_type": "code",
      "execution_count": null,
      "metadata": {
        "id": "VVSLZGogG_I6",
        "outputId": "12c3c23f-463e-40ed-c93e-be4887ee3b32"
      },
      "outputs": [
        {
          "data": {
            "text/html": [
              "<div>\n",
              "<style scoped>\n",
              "    .dataframe tbody tr th:only-of-type {\n",
              "        vertical-align: middle;\n",
              "    }\n",
              "\n",
              "    .dataframe tbody tr th {\n",
              "        vertical-align: top;\n",
              "    }\n",
              "\n",
              "    .dataframe thead th {\n",
              "        text-align: right;\n",
              "    }\n",
              "</style>\n",
              "<table border=\"1\" class=\"dataframe\">\n",
              "  <thead>\n",
              "    <tr style=\"text-align: right;\">\n",
              "      <th></th>\n",
              "      <th>country</th>\n",
              "    </tr>\n",
              "  </thead>\n",
              "  <tbody>\n",
              "    <tr>\n",
              "      <th>26</th>\n",
              "      <td>Burundi</td>\n",
              "    </tr>\n",
              "    <tr>\n",
              "      <th>88</th>\n",
              "      <td>Liberia</td>\n",
              "    </tr>\n",
              "    <tr>\n",
              "      <th>37</th>\n",
              "      <td>Congo, Dem. Rep.</td>\n",
              "    </tr>\n",
              "    <tr>\n",
              "      <th>112</th>\n",
              "      <td>Niger</td>\n",
              "    </tr>\n",
              "    <tr>\n",
              "      <th>132</th>\n",
              "      <td>Sierra Leone</td>\n",
              "    </tr>\n",
              "  </tbody>\n",
              "</table>\n",
              "</div>"
            ],
            "text/plain": [
              "              country\n",
              "26            Burundi\n",
              "88            Liberia\n",
              "37   Congo, Dem. Rep.\n",
              "112             Niger\n",
              "132      Sierra Leone"
            ]
          },
          "execution_count": 50,
          "metadata": {},
          "output_type": "execute_result"
        }
      ],
      "source": [
        "Top_5_Countries = Final_Kmean[Final_Kmean['Kmean_cluster_num']== 2]\n",
        "Top_5_Countries = Top_5_Countries.sort_values(by = ['gdpp','income','child_mort'], ascending=[True, True, False])\n",
        "Top_5_Countries[['country']].head()\n",
        "\n"
      ]
    },
    {
      "cell_type": "markdown",
      "metadata": {
        "id": "ETy8u3lFG_I6"
      },
      "source": [
        "#### Observation: The result of K-mean Clustering of Cluster 2 (Under Developed Countries) tels us that the following countries are in direst need of aid.\n",
        "\n",
        "1. Burundi\n",
        "2. Liberia\n",
        "3. Congo. Dem. Rep.\n",
        "4. Niger\n",
        "5. Sierra Leone"
      ]
    },
    {
      "cell_type": "markdown",
      "metadata": {
        "id": "QBmF2ORBG_I6"
      },
      "source": [
        "### 9. Hierarchical Clustering"
      ]
    },
    {
      "cell_type": "code",
      "execution_count": null,
      "metadata": {
        "id": "aMMkNdVBG_I6",
        "outputId": "888f7dc8-0944-4434-de86-8629450ac86f"
      },
      "outputs": [
        {
          "data": {
            "image/png": "[encoded data removed]",
            "text/plain": [
              "<Figure size 1440x576 with 1 Axes>"
            ]
          },
          "metadata": {
            "needs_background": "light"
          },
          "output_type": "display_data"
        }
      ],
      "source": [
        "# Plotting the Single Linkage grpah\n",
        "\n",
        "plt.figure(figsize = (20,8))\n",
        "mergings = linkage(df1, method=\"single\", metric='euclidean')\n",
        "dendrogram(mergings)\n",
        "plt.show()"
      ]
    },
    {
      "cell_type": "markdown",
      "metadata": {
        "id": "JuVn7E-iG_I6"
      },
      "source": [
        "#### Observation : In Single Linkage we aren't able to gather the proper insight on dendrogram for us to derive an conclusion out of the graph so we would require to plot complete linkage for further analysis."
      ]
    },
    {
      "cell_type": "code",
      "execution_count": null,
      "metadata": {
        "id": "beceCiFzG_I6",
        "outputId": "5fa40bba-a850-4d60-e463-50c82073168d"
      },
      "outputs": [
        {
          "data": {
            "image/png": "[encoded data removed]",
            "text/plain": [
              "<Figure size 1296x576 with 1 Axes>"
            ]
          },
          "metadata": {
            "needs_background": "light"
          },
          "output_type": "display_data"
        }
      ],
      "source": [
        "# Plotting the complete linkage grpah\n",
        "\n",
        "plt.figure(figsize = (18,8))\n",
        "mergings = linkage(df1, method=\"complete\", metric='euclidean')\n",
        "dendrogram(mergings)\n",
        "plt.show()"
      ]
    },
    {
      "cell_type": "markdown",
      "metadata": {
        "id": "wUu2bvXoG_I7"
      },
      "source": [
        "#### Observation : From the above dendrogram plot we can cut the y-axis at 10 that results in 3 verticle lines"
      ]
    },
    {
      "cell_type": "code",
      "execution_count": null,
      "metadata": {
        "id": "pLYMrg6NG_I7",
        "outputId": "be230638-4f5d-41a4-9efe-60b0fe2e5018"
      },
      "outputs": [
        {
          "data": {
            "text/plain": [
              "array([0, 0, 0, 0, 1, 0, 0, 1, 1, 0, 1, 1, 0, 1, 0, 2, 0, 0, 0, 0, 0, 0,\n",
              "       0, 1, 0, 0, 0, 0, 0, 1, 0, 0, 0, 0, 0, 0, 0, 0, 0, 0, 0, 1, 1, 1,\n",
              "       2, 0, 0, 0, 0, 0, 0, 1, 0, 1, 1, 0, 0, 0, 1, 0, 1, 0, 0, 0, 0, 0,\n",
              "       0, 1, 1, 0, 0, 0, 0, 2, 1, 1, 0, 1, 0, 0, 0, 0, 1, 0, 0, 1, 0, 0,\n",
              "       0, 1, 1, 2, 0, 0, 0, 0, 0, 0, 1, 0, 0, 0, 0, 0, 0, 0, 0, 0, 0, 0,\n",
              "       2, 1, 0, 0, 2, 1, 0, 0, 0, 0, 0, 1, 1, 1, 0, 0, 0, 0, 1, 0, 0, 1,\n",
              "       0, 2, 1, 1, 0, 0, 1, 1, 0, 0, 0, 0, 1, 2, 0, 0, 0, 0, 0, 0, 0, 0,\n",
              "       0, 0, 0, 1, 1, 1, 0, 0, 0, 0, 0, 0, 0])"
            ]
          },
          "execution_count": 53,
          "metadata": {},
          "output_type": "execute_result"
        }
      ],
      "source": [
        "# Creating the labels\n",
        "cluster_labels = cut_tree(mergings, n_clusters=3).reshape(-1, )\n",
        "cluster_labels"
      ]
    },
    {
      "cell_type": "code",
      "execution_count": null,
      "metadata": {
        "id": "XPUG0LsDG_I7",
        "outputId": "bb3068c6-dca8-4b0a-a20a-24c2f3a3e79e"
      },
      "outputs": [
        {
          "data": {
            "text/html": [
              "<div>\n",
              "<style scoped>\n",
              "    .dataframe tbody tr th:only-of-type {\n",
              "        vertical-align: middle;\n",
              "    }\n",
              "\n",
              "    .dataframe tbody tr th {\n",
              "        vertical-align: top;\n",
              "    }\n",
              "\n",
              "    .dataframe thead th {\n",
              "        text-align: right;\n",
              "    }\n",
              "</style>\n",
              "<table border=\"1\" class=\"dataframe\">\n",
              "  <thead>\n",
              "    <tr style=\"text-align: right;\">\n",
              "      <th></th>\n",
              "      <th>country</th>\n",
              "      <th>child_mort</th>\n",
              "      <th>exports</th>\n",
              "      <th>health</th>\n",
              "      <th>imports</th>\n",
              "      <th>income</th>\n",
              "      <th>inflation</th>\n",
              "      <th>life_expec</th>\n",
              "      <th>total_fer</th>\n",
              "      <th>gdpp</th>\n",
              "      <th>Hist_cluster_labels</th>\n",
              "    </tr>\n",
              "  </thead>\n",
              "  <tbody>\n",
              "    <tr>\n",
              "      <th>0</th>\n",
              "      <td>Afghanistan</td>\n",
              "      <td>90.2</td>\n",
              "      <td>55.30</td>\n",
              "      <td>41.9174</td>\n",
              "      <td>248.297</td>\n",
              "      <td>1610.0</td>\n",
              "      <td>9.44</td>\n",
              "      <td>56.2</td>\n",
              "      <td>5.82</td>\n",
              "      <td>553.0</td>\n",
              "      <td>0</td>\n",
              "    </tr>\n",
              "    <tr>\n",
              "      <th>1</th>\n",
              "      <td>Albania</td>\n",
              "      <td>16.6</td>\n",
              "      <td>1145.20</td>\n",
              "      <td>267.8950</td>\n",
              "      <td>1987.740</td>\n",
              "      <td>9930.0</td>\n",
              "      <td>4.49</td>\n",
              "      <td>76.3</td>\n",
              "      <td>1.65</td>\n",
              "      <td>4090.0</td>\n",
              "      <td>0</td>\n",
              "    </tr>\n",
              "    <tr>\n",
              "      <th>2</th>\n",
              "      <td>Algeria</td>\n",
              "      <td>27.3</td>\n",
              "      <td>1712.64</td>\n",
              "      <td>185.9820</td>\n",
              "      <td>1400.440</td>\n",
              "      <td>12900.0</td>\n",
              "      <td>16.10</td>\n",
              "      <td>76.5</td>\n",
              "      <td>2.89</td>\n",
              "      <td>4460.0</td>\n",
              "      <td>0</td>\n",
              "    </tr>\n",
              "    <tr>\n",
              "      <th>3</th>\n",
              "      <td>Angola</td>\n",
              "      <td>119.0</td>\n",
              "      <td>2199.19</td>\n",
              "      <td>100.6050</td>\n",
              "      <td>1514.370</td>\n",
              "      <td>5900.0</td>\n",
              "      <td>22.40</td>\n",
              "      <td>60.1</td>\n",
              "      <td>6.16</td>\n",
              "      <td>3530.0</td>\n",
              "      <td>0</td>\n",
              "    </tr>\n",
              "    <tr>\n",
              "      <th>4</th>\n",
              "      <td>Antigua and Barbuda</td>\n",
              "      <td>10.3</td>\n",
              "      <td>5551.00</td>\n",
              "      <td>735.6600</td>\n",
              "      <td>7185.800</td>\n",
              "      <td>19100.0</td>\n",
              "      <td>1.44</td>\n",
              "      <td>76.8</td>\n",
              "      <td>2.13</td>\n",
              "      <td>12200.0</td>\n",
              "      <td>1</td>\n",
              "    </tr>\n",
              "  </tbody>\n",
              "</table>\n",
              "</div>"
            ],
            "text/plain": [
              "               country  child_mort  exports    health   imports   income  \\\n",
              "0          Afghanistan        90.2    55.30   41.9174   248.297   1610.0   \n",
              "1              Albania        16.6  1145.20  267.8950  1987.740   9930.0   \n",
              "2              Algeria        27.3  1712.64  185.9820  1400.440  12900.0   \n",
              "3               Angola       119.0  2199.19  100.6050  1514.370   5900.0   \n",
              "4  Antigua and Barbuda        10.3  5551.00  735.6600  7185.800  19100.0   \n",
              "\n",
              "   inflation  life_expec  total_fer     gdpp  Hist_cluster_labels  \n",
              "0       9.44        56.2       5.82    553.0                    0  \n",
              "1       4.49        76.3       1.65   4090.0                    0  \n",
              "2      16.10        76.5       2.89   4460.0                    0  \n",
              "3      22.40        60.1       6.16   3530.0                    0  \n",
              "4       1.44        76.8       2.13  12200.0                    1  "
            ]
          },
          "execution_count": 54,
          "metadata": {},
          "output_type": "execute_result"
        }
      ],
      "source": [
        "df['Hist_cluster_labels'] = cluster_labels\n",
        "df.head()"
      ]
    },
    {
      "cell_type": "code",
      "execution_count": null,
      "metadata": {
        "id": "jHPR3I5cG_I7",
        "outputId": "46cc853c-7151-4619-ab02-2b5da4f47800"
      },
      "outputs": [
        {
          "data": {
            "text/plain": [
              "(167, 11)"
            ]
          },
          "execution_count": 55,
          "metadata": {},
          "output_type": "execute_result"
        }
      ],
      "source": [
        "df.shape"
      ]
    },
    {
      "cell_type": "code",
      "execution_count": null,
      "metadata": {
        "id": "KDD7PEHuG_I7",
        "outputId": "ced2e8d7-e2b1-48bb-e0a0-a0900132b215"
      },
      "outputs": [
        {
          "data": {
            "text/plain": [
              "0    118\n",
              "1     41\n",
              "2      8\n",
              "Name: Hist_cluster_labels, dtype: int64"
            ]
          },
          "execution_count": 56,
          "metadata": {},
          "output_type": "execute_result"
        }
      ],
      "source": [
        "df.Hist_cluster_labels.value_counts()"
      ]
    },
    {
      "cell_type": "code",
      "execution_count": null,
      "metadata": {
        "id": "HSBk0UFiG_I7",
        "outputId": "f1c7e4a2-8312-4097-eb73-f923024c9d0f"
      },
      "outputs": [
        {
          "data": {
            "image/png": "[encoded data removed]",
            "text/plain": [
              "<Figure size 1440x360 with 3 Axes>"
            ]
          },
          "metadata": {
            "needs_background": "light"
          },
          "output_type": "display_data"
        }
      ],
      "source": [
        "# Plotting the Scatter plot to analysis the variables across 3 clusters\n",
        "\n",
        "plt.figure(figsize=(20, 5))\n",
        "plt.subplot(1, 3, 1)\n",
        "sns.scatterplot(x='income', y='child_mort', hue='Hist_cluster_labels', data=df, palette=\"rocket\")\n",
        "\n",
        "plt.subplot(1, 3, 2)\n",
        "sns.scatterplot(x='gdpp', y='income', hue='Hist_cluster_labels',data=df, palette=\"rocket\")\n",
        "\n",
        "plt.subplot(1, 3, 3)\n",
        "sns.scatterplot(x='child_mort', y='gdpp', hue='Hist_cluster_labels', data=df, palette=\"rocket\")\n",
        "\n",
        "plt.show()"
      ]
    },
    {
      "cell_type": "code",
      "execution_count": null,
      "metadata": {
        "id": "gqQJMhGYG_I7",
        "outputId": "feb2141e-382f-4cc6-e5d8-2098b4ceac61"
      },
      "outputs": [
        {
          "data": {
            "image/png": "[encoded data removed]",
            "text/plain": [
              "<Figure size 1296x360 with 3 Axes>"
            ]
          },
          "metadata": {
            "needs_background": "light"
          },
          "output_type": "display_data"
        }
      ],
      "source": [
        "# Plotting the Bar plot to analysis the variables across 3 clusters\n",
        "\n",
        "plt.figure(figsize=(18,5))\n",
        "plt.subplot(1,3,1)\n",
        "sns.barplot(x = 'Hist_cluster_labels', y = 'child_mort', data=df, palette=\"mako\")\n",
        "plt.title('Child Mortality')\n",
        "\n",
        "plt.subplot(1,3,2)\n",
        "sns.barplot(x = 'Hist_cluster_labels', y = 'income', data=df, palette=\"mako\")\n",
        "plt.title('Income')\n",
        "\n",
        "plt.subplot(1,3,3)\n",
        "sns.barplot(x = 'Hist_cluster_labels', y = 'gdpp', data=df, palette=\"mako\")\n",
        "plt.title('GDP per Capita')\n",
        "\n",
        "plt.show()"
      ]
    },
    {
      "cell_type": "markdown",
      "metadata": {
        "id": "2fwNknTEG_I8"
      },
      "source": [
        "#### Observations:\n",
        "1. Under Developed = Cluster 0 has highest Child Mortality rate with lowest Income and GDP per Capita."
      ]
    },
    {
      "cell_type": "code",
      "execution_count": null,
      "metadata": {
        "id": "YEbTNjeBG_I8",
        "outputId": "2fe79e0a-3761-4457-a3f4-34041dcb7070"
      },
      "outputs": [
        {
          "data": {
            "text/html": [
              "<div>\n",
              "<style scoped>\n",
              "    .dataframe tbody tr th:only-of-type {\n",
              "        vertical-align: middle;\n",
              "    }\n",
              "\n",
              "    .dataframe tbody tr th {\n",
              "        vertical-align: top;\n",
              "    }\n",
              "\n",
              "    .dataframe thead th {\n",
              "        text-align: right;\n",
              "    }\n",
              "</style>\n",
              "<table border=\"1\" class=\"dataframe\">\n",
              "  <thead>\n",
              "    <tr style=\"text-align: right;\">\n",
              "      <th></th>\n",
              "      <th>country</th>\n",
              "      <th>child_mort</th>\n",
              "      <th>exports</th>\n",
              "      <th>health</th>\n",
              "      <th>imports</th>\n",
              "      <th>income</th>\n",
              "      <th>inflation</th>\n",
              "      <th>life_expec</th>\n",
              "      <th>total_fer</th>\n",
              "      <th>gdpp</th>\n",
              "      <th>Hist_cluster_labels</th>\n",
              "    </tr>\n",
              "  </thead>\n",
              "  <tbody>\n",
              "    <tr>\n",
              "      <th>0</th>\n",
              "      <td>Afghanistan</td>\n",
              "      <td>90.2</td>\n",
              "      <td>55.30</td>\n",
              "      <td>41.9174</td>\n",
              "      <td>248.297</td>\n",
              "      <td>1610.0</td>\n",
              "      <td>9.44</td>\n",
              "      <td>56.2</td>\n",
              "      <td>5.82</td>\n",
              "      <td>553.0</td>\n",
              "      <td>0</td>\n",
              "    </tr>\n",
              "    <tr>\n",
              "      <th>1</th>\n",
              "      <td>Albania</td>\n",
              "      <td>16.6</td>\n",
              "      <td>1145.20</td>\n",
              "      <td>267.8950</td>\n",
              "      <td>1987.740</td>\n",
              "      <td>9930.0</td>\n",
              "      <td>4.49</td>\n",
              "      <td>76.3</td>\n",
              "      <td>1.65</td>\n",
              "      <td>4090.0</td>\n",
              "      <td>0</td>\n",
              "    </tr>\n",
              "    <tr>\n",
              "      <th>2</th>\n",
              "      <td>Algeria</td>\n",
              "      <td>27.3</td>\n",
              "      <td>1712.64</td>\n",
              "      <td>185.9820</td>\n",
              "      <td>1400.440</td>\n",
              "      <td>12900.0</td>\n",
              "      <td>16.10</td>\n",
              "      <td>76.5</td>\n",
              "      <td>2.89</td>\n",
              "      <td>4460.0</td>\n",
              "      <td>0</td>\n",
              "    </tr>\n",
              "    <tr>\n",
              "      <th>3</th>\n",
              "      <td>Angola</td>\n",
              "      <td>119.0</td>\n",
              "      <td>2199.19</td>\n",
              "      <td>100.6050</td>\n",
              "      <td>1514.370</td>\n",
              "      <td>5900.0</td>\n",
              "      <td>22.40</td>\n",
              "      <td>60.1</td>\n",
              "      <td>6.16</td>\n",
              "      <td>3530.0</td>\n",
              "      <td>0</td>\n",
              "    </tr>\n",
              "    <tr>\n",
              "      <th>5</th>\n",
              "      <td>Argentina</td>\n",
              "      <td>14.5</td>\n",
              "      <td>1946.70</td>\n",
              "      <td>834.3000</td>\n",
              "      <td>1648.000</td>\n",
              "      <td>18700.0</td>\n",
              "      <td>20.90</td>\n",
              "      <td>75.8</td>\n",
              "      <td>2.37</td>\n",
              "      <td>10300.0</td>\n",
              "      <td>0</td>\n",
              "    </tr>\n",
              "  </tbody>\n",
              "</table>\n",
              "</div>"
            ],
            "text/plain": [
              "       country  child_mort  exports    health   imports   income  inflation  \\\n",
              "0  Afghanistan        90.2    55.30   41.9174   248.297   1610.0       9.44   \n",
              "1      Albania        16.6  1145.20  267.8950  1987.740   9930.0       4.49   \n",
              "2      Algeria        27.3  1712.64  185.9820  1400.440  12900.0      16.10   \n",
              "3       Angola       119.0  2199.19  100.6050  1514.370   5900.0      22.40   \n",
              "5    Argentina        14.5  1946.70  834.3000  1648.000  18700.0      20.90   \n",
              "\n",
              "   life_expec  total_fer     gdpp  Hist_cluster_labels  \n",
              "0        56.2       5.82    553.0                    0  \n",
              "1        76.3       1.65   4090.0                    0  \n",
              "2        76.5       2.89   4460.0                    0  \n",
              "3        60.1       6.16   3530.0                    0  \n",
              "5        75.8       2.37  10300.0                    0  "
            ]
          },
          "execution_count": 59,
          "metadata": {},
          "output_type": "execute_result"
        }
      ],
      "source": [
        "df[df['Hist_cluster_labels'] == 0].head()"
      ]
    },
    {
      "cell_type": "code",
      "execution_count": null,
      "metadata": {
        "id": "USyJkXK4G_I8",
        "outputId": "f636a04e-69c9-406e-940a-f640df0e889f"
      },
      "outputs": [
        {
          "data": {
            "text/html": [
              "<div>\n",
              "<style scoped>\n",
              "    .dataframe tbody tr th:only-of-type {\n",
              "        vertical-align: middle;\n",
              "    }\n",
              "\n",
              "    .dataframe tbody tr th {\n",
              "        vertical-align: top;\n",
              "    }\n",
              "\n",
              "    .dataframe thead th {\n",
              "        text-align: right;\n",
              "    }\n",
              "</style>\n",
              "<table border=\"1\" class=\"dataframe\">\n",
              "  <thead>\n",
              "    <tr style=\"text-align: right;\">\n",
              "      <th></th>\n",
              "      <th>country</th>\n",
              "      <th>child_mort</th>\n",
              "      <th>exports</th>\n",
              "      <th>health</th>\n",
              "      <th>imports</th>\n",
              "      <th>income</th>\n",
              "      <th>inflation</th>\n",
              "      <th>life_expec</th>\n",
              "      <th>total_fer</th>\n",
              "      <th>gdpp</th>\n",
              "      <th>Hist_cluster_labels</th>\n",
              "    </tr>\n",
              "  </thead>\n",
              "  <tbody>\n",
              "    <tr>\n",
              "      <th>66</th>\n",
              "      <td>Haiti</td>\n",
              "      <td>208.0</td>\n",
              "      <td>101.286</td>\n",
              "      <td>45.7442</td>\n",
              "      <td>428.314</td>\n",
              "      <td>1500.0</td>\n",
              "      <td>5.45</td>\n",
              "      <td>32.1</td>\n",
              "      <td>3.3300</td>\n",
              "      <td>662.0</td>\n",
              "      <td>0</td>\n",
              "    </tr>\n",
              "    <tr>\n",
              "      <th>132</th>\n",
              "      <td>Sierra Leone</td>\n",
              "      <td>160.0</td>\n",
              "      <td>67.032</td>\n",
              "      <td>52.2690</td>\n",
              "      <td>137.655</td>\n",
              "      <td>1220.0</td>\n",
              "      <td>17.20</td>\n",
              "      <td>55.0</td>\n",
              "      <td>5.2000</td>\n",
              "      <td>399.0</td>\n",
              "      <td>0</td>\n",
              "    </tr>\n",
              "    <tr>\n",
              "      <th>32</th>\n",
              "      <td>Chad</td>\n",
              "      <td>150.0</td>\n",
              "      <td>330.096</td>\n",
              "      <td>40.6341</td>\n",
              "      <td>390.195</td>\n",
              "      <td>1930.0</td>\n",
              "      <td>6.39</td>\n",
              "      <td>56.5</td>\n",
              "      <td>6.5636</td>\n",
              "      <td>897.0</td>\n",
              "      <td>0</td>\n",
              "    </tr>\n",
              "    <tr>\n",
              "      <th>31</th>\n",
              "      <td>Central African Republic</td>\n",
              "      <td>149.0</td>\n",
              "      <td>52.628</td>\n",
              "      <td>17.7508</td>\n",
              "      <td>118.190</td>\n",
              "      <td>888.0</td>\n",
              "      <td>2.01</td>\n",
              "      <td>47.5</td>\n",
              "      <td>5.2100</td>\n",
              "      <td>446.0</td>\n",
              "      <td>0</td>\n",
              "    </tr>\n",
              "    <tr>\n",
              "      <th>97</th>\n",
              "      <td>Mali</td>\n",
              "      <td>137.0</td>\n",
              "      <td>161.424</td>\n",
              "      <td>35.2584</td>\n",
              "      <td>248.508</td>\n",
              "      <td>1870.0</td>\n",
              "      <td>4.37</td>\n",
              "      <td>59.5</td>\n",
              "      <td>6.5500</td>\n",
              "      <td>708.0</td>\n",
              "      <td>0</td>\n",
              "    </tr>\n",
              "  </tbody>\n",
              "</table>\n",
              "</div>"
            ],
            "text/plain": [
              "                      country  child_mort  exports   health  imports  income  \\\n",
              "66                      Haiti       208.0  101.286  45.7442  428.314  1500.0   \n",
              "132              Sierra Leone       160.0   67.032  52.2690  137.655  1220.0   \n",
              "32                       Chad       150.0  330.096  40.6341  390.195  1930.0   \n",
              "31   Central African Republic       149.0   52.628  17.7508  118.190   888.0   \n",
              "97                       Mali       137.0  161.424  35.2584  248.508  1870.0   \n",
              "\n",
              "     inflation  life_expec  total_fer   gdpp  Hist_cluster_labels  \n",
              "66        5.45        32.1     3.3300  662.0                    0  \n",
              "132      17.20        55.0     5.2000  399.0                    0  \n",
              "32        6.39        56.5     6.5636  897.0                    0  \n",
              "31        2.01        47.5     5.2100  446.0                    0  \n",
              "97        4.37        59.5     6.5500  708.0                    0  "
            ]
          },
          "execution_count": 60,
          "metadata": {},
          "output_type": "execute_result"
        }
      ],
      "source": [
        "df_Countries=df[df['Hist_cluster_labels'] == 0].sort_values(by = ['child_mort','income', 'gdpp'], ascending = [False, True, True])\n",
        "df_Countries.head()"
      ]
    },
    {
      "cell_type": "code",
      "execution_count": null,
      "metadata": {
        "id": "GCWx0w47G_I8",
        "outputId": "a7f9a2c7-622c-4f19-d0c1-0908c20639e4"
      },
      "outputs": [
        {
          "data": {
            "text/html": [
              "<div>\n",
              "<style scoped>\n",
              "    .dataframe tbody tr th:only-of-type {\n",
              "        vertical-align: middle;\n",
              "    }\n",
              "\n",
              "    .dataframe tbody tr th {\n",
              "        vertical-align: top;\n",
              "    }\n",
              "\n",
              "    .dataframe thead th {\n",
              "        text-align: right;\n",
              "    }\n",
              "</style>\n",
              "<table border=\"1\" class=\"dataframe\">\n",
              "  <thead>\n",
              "    <tr style=\"text-align: right;\">\n",
              "      <th></th>\n",
              "      <th>country</th>\n",
              "    </tr>\n",
              "  </thead>\n",
              "  <tbody>\n",
              "    <tr>\n",
              "      <th>0</th>\n",
              "      <td>Haiti</td>\n",
              "    </tr>\n",
              "    <tr>\n",
              "      <th>1</th>\n",
              "      <td>Sierra Leone</td>\n",
              "    </tr>\n",
              "    <tr>\n",
              "      <th>2</th>\n",
              "      <td>Chad</td>\n",
              "    </tr>\n",
              "    <tr>\n",
              "      <th>3</th>\n",
              "      <td>Central African Republic</td>\n",
              "    </tr>\n",
              "    <tr>\n",
              "      <th>4</th>\n",
              "      <td>Mali</td>\n",
              "    </tr>\n",
              "  </tbody>\n",
              "</table>\n",
              "</div>"
            ],
            "text/plain": [
              "                    country\n",
              "0                     Haiti\n",
              "1              Sierra Leone\n",
              "2                      Chad\n",
              "3  Central African Republic\n",
              "4                      Mali"
            ]
          },
          "execution_count": 61,
          "metadata": {},
          "output_type": "execute_result"
        }
      ],
      "source": [
        "Sorting_Countries_head=df_Countries[['country']]\n",
        "Sorting_Countries_head= Sorting_Countries_head.reset_index(drop=True)\n",
        "Sorting_Countries_head.head()"
      ]
    },
    {
      "cell_type": "code",
      "execution_count": null,
      "metadata": {
        "id": "eRf-jFzpG_I8",
        "outputId": "7fc58489-9c6d-459d-f8ad-1b058a3aa8b4"
      },
      "outputs": [
        {
          "data": {
            "text/html": [
              "<div>\n",
              "<style scoped>\n",
              "    .dataframe tbody tr th:only-of-type {\n",
              "        vertical-align: middle;\n",
              "    }\n",
              "\n",
              "    .dataframe tbody tr th {\n",
              "        vertical-align: top;\n",
              "    }\n",
              "\n",
              "    .dataframe thead th {\n",
              "        text-align: right;\n",
              "    }\n",
              "</style>\n",
              "<table border=\"1\" class=\"dataframe\">\n",
              "  <thead>\n",
              "    <tr style=\"text-align: right;\">\n",
              "      <th></th>\n",
              "      <th>child_mort</th>\n",
              "      <th>exports</th>\n",
              "      <th>health</th>\n",
              "      <th>imports</th>\n",
              "      <th>income</th>\n",
              "      <th>inflation</th>\n",
              "      <th>life_expec</th>\n",
              "      <th>total_fer</th>\n",
              "      <th>gdpp</th>\n",
              "    </tr>\n",
              "    <tr>\n",
              "      <th>Hist_cluster_labels</th>\n",
              "      <th></th>\n",
              "      <th></th>\n",
              "      <th></th>\n",
              "      <th></th>\n",
              "      <th></th>\n",
              "      <th></th>\n",
              "      <th></th>\n",
              "      <th></th>\n",
              "      <th></th>\n",
              "    </tr>\n",
              "  </thead>\n",
              "  <tbody>\n",
              "    <tr>\n",
              "      <th>0</th>\n",
              "      <td>51.512712</td>\n",
              "      <td>1466.113115</td>\n",
              "      <td>238.174789</td>\n",
              "      <td>1582.123747</td>\n",
              "      <td>7581.889831</td>\n",
              "      <td>9.187966</td>\n",
              "      <td>67.125424</td>\n",
              "      <td>3.417434</td>\n",
              "      <td>3732.322034</td>\n",
              "    </tr>\n",
              "    <tr>\n",
              "      <th>1</th>\n",
              "      <td>6.878049</td>\n",
              "      <td>13587.873171</td>\n",
              "      <td>2424.054156</td>\n",
              "      <td>11854.251220</td>\n",
              "      <td>35853.024390</td>\n",
              "      <td>3.313976</td>\n",
              "      <td>78.395122</td>\n",
              "      <td>1.811707</td>\n",
              "      <td>29492.682927</td>\n",
              "    </tr>\n",
              "    <tr>\n",
              "      <th>2</th>\n",
              "      <td>3.825000</td>\n",
              "      <td>45222.215000</td>\n",
              "      <td>6070.207550</td>\n",
              "      <td>38512.335000</td>\n",
              "      <td>56321.750000</td>\n",
              "      <td>1.571125</td>\n",
              "      <td>80.975000</td>\n",
              "      <td>1.727500</td>\n",
              "      <td>60097.000000</td>\n",
              "    </tr>\n",
              "  </tbody>\n",
              "</table>\n",
              "</div>"
            ],
            "text/plain": [
              "                     child_mort       exports       health       imports  \\\n",
              "Hist_cluster_labels                                                        \n",
              "0                     51.512712   1466.113115   238.174789   1582.123747   \n",
              "1                      6.878049  13587.873171  2424.054156  11854.251220   \n",
              "2                      3.825000  45222.215000  6070.207550  38512.335000   \n",
              "\n",
              "                           income  inflation  life_expec  total_fer  \\\n",
              "Hist_cluster_labels                                                   \n",
              "0                     7581.889831   9.187966   67.125424   3.417434   \n",
              "1                    35853.024390   3.313976   78.395122   1.811707   \n",
              "2                    56321.750000   1.571125   80.975000   1.727500   \n",
              "\n",
              "                             gdpp  \n",
              "Hist_cluster_labels                \n",
              "0                     3732.322034  \n",
              "1                    29492.682927  \n",
              "2                    60097.000000  "
            ]
          },
          "execution_count": 62,
          "metadata": {},
          "output_type": "execute_result"
        }
      ],
      "source": [
        "# Creating a new df for clustering mean for further analysis\n",
        "\n",
        "Heir_mean = df.groupby(['Hist_cluster_labels']).mean().sort_values(['child_mort','income','gdpp'],ascending = [False,True,True])\n",
        "Heir_mean"
      ]
    },
    {
      "cell_type": "code",
      "execution_count": null,
      "metadata": {
        "id": "1zLlMHx7G_I8",
        "outputId": "4f7c9207-9cab-4238-fda7-d10c61ac3589"
      },
      "outputs": [
        {
          "data": {
            "text/html": [
              "<div>\n",
              "<style scoped>\n",
              "    .dataframe tbody tr th:only-of-type {\n",
              "        vertical-align: middle;\n",
              "    }\n",
              "\n",
              "    .dataframe tbody tr th {\n",
              "        vertical-align: top;\n",
              "    }\n",
              "\n",
              "    .dataframe thead th {\n",
              "        text-align: right;\n",
              "    }\n",
              "</style>\n",
              "<table border=\"1\" class=\"dataframe\">\n",
              "  <thead>\n",
              "    <tr style=\"text-align: right;\">\n",
              "      <th></th>\n",
              "      <th>country</th>\n",
              "    </tr>\n",
              "  </thead>\n",
              "  <tbody>\n",
              "    <tr>\n",
              "      <th>26</th>\n",
              "      <td>Burundi</td>\n",
              "    </tr>\n",
              "    <tr>\n",
              "      <th>88</th>\n",
              "      <td>Liberia</td>\n",
              "    </tr>\n",
              "    <tr>\n",
              "      <th>37</th>\n",
              "      <td>Congo, Dem. Rep.</td>\n",
              "    </tr>\n",
              "    <tr>\n",
              "      <th>112</th>\n",
              "      <td>Niger</td>\n",
              "    </tr>\n",
              "    <tr>\n",
              "      <th>132</th>\n",
              "      <td>Sierra Leone</td>\n",
              "    </tr>\n",
              "  </tbody>\n",
              "</table>\n",
              "</div>"
            ],
            "text/plain": [
              "              country\n",
              "26            Burundi\n",
              "88            Liberia\n",
              "37   Congo, Dem. Rep.\n",
              "112             Niger\n",
              "132      Sierra Leone"
            ]
          },
          "execution_count": 63,
          "metadata": {},
          "output_type": "execute_result"
        }
      ],
      "source": [
        "# Finding the top5 nations per Hierarchical Clustering that are direst need of an aid\n",
        "\n",
        "Top_5_Countries = df [df ['Hist_cluster_labels']== 0]\n",
        "Top_5_Countries = Top_5_Countries.sort_values(by = ['gdpp','income','child_mort'], ascending=[True, True, False])\n",
        "Top_5_Countries[['country']].head()"
      ]
    },
    {
      "cell_type": "markdown",
      "metadata": {
        "id": "o0m_0lfMG_I8"
      },
      "source": [
        "#### Observation: The result of Hierarchical Clustering of Cluster 0 (Under Developed Countries) tels us that the following countries are in direst need of aid.\n",
        "\n",
        "1. Burundi\n",
        "2. Liberia\n",
        "3. Congo. Dem. Rep.\n",
        "4. Niger\n",
        "5. Sierra Leone"
      ]
    },
    {
      "cell_type": "markdown",
      "metadata": {
        "id": "NRy0X5JnG_I8"
      },
      "source": [
        "### 10. Final Analysis"
      ]
    },
    {
      "cell_type": "code",
      "execution_count": null,
      "metadata": {
        "id": "xnmwWgh0G_I8",
        "outputId": "57f59531-253e-448f-8d81-bd9776ebaf21"
      },
      "outputs": [
        {
          "data": {
            "text/plain": [
              "0    53.892216\n",
              "2    28.742515\n",
              "1    17.365269\n",
              "Name: Kmean_cluster_num, dtype: float64"
            ]
          },
          "execution_count": 64,
          "metadata": {},
          "output_type": "execute_result"
        }
      ],
      "source": [
        "# K-Mean clustering Analysis\n",
        "\n",
        "Kmean_cluster_per = Final_Kmean.Kmean_cluster_num.value_counts(normalize = True)*100\n",
        "Kmean_cluster_per\n"
      ]
    },
    {
      "cell_type": "code",
      "execution_count": null,
      "metadata": {
        "id": "FHlgwbsyG_I9",
        "outputId": "b124e9bc-5b16-4655-9c17-f9d45d2ad863"
      },
      "outputs": [
        {
          "data": {
            "text/html": [
              "<div>\n",
              "<style scoped>\n",
              "    .dataframe tbody tr th:only-of-type {\n",
              "        vertical-align: middle;\n",
              "    }\n",
              "\n",
              "    .dataframe tbody tr th {\n",
              "        vertical-align: top;\n",
              "    }\n",
              "\n",
              "    .dataframe thead th {\n",
              "        text-align: right;\n",
              "    }\n",
              "</style>\n",
              "<table border=\"1\" class=\"dataframe\">\n",
              "  <thead>\n",
              "    <tr style=\"text-align: right;\">\n",
              "      <th></th>\n",
              "      <th>country</th>\n",
              "      <th>child_mort</th>\n",
              "      <th>exports</th>\n",
              "      <th>health</th>\n",
              "      <th>imports</th>\n",
              "      <th>income</th>\n",
              "      <th>inflation</th>\n",
              "      <th>life_expec</th>\n",
              "      <th>total_fer</th>\n",
              "      <th>gdpp</th>\n",
              "      <th>Kmean_cluster_num</th>\n",
              "    </tr>\n",
              "  </thead>\n",
              "  <tbody>\n",
              "    <tr>\n",
              "      <th>26</th>\n",
              "      <td>Burundi</td>\n",
              "      <td>93.6</td>\n",
              "      <td>20.6052</td>\n",
              "      <td>26.7960</td>\n",
              "      <td>90.552</td>\n",
              "      <td>764.0</td>\n",
              "      <td>12.30</td>\n",
              "      <td>57.7</td>\n",
              "      <td>6.2600</td>\n",
              "      <td>231.0</td>\n",
              "      <td>2</td>\n",
              "    </tr>\n",
              "    <tr>\n",
              "      <th>88</th>\n",
              "      <td>Liberia</td>\n",
              "      <td>89.3</td>\n",
              "      <td>62.4570</td>\n",
              "      <td>38.5860</td>\n",
              "      <td>302.802</td>\n",
              "      <td>700.0</td>\n",
              "      <td>5.47</td>\n",
              "      <td>60.8</td>\n",
              "      <td>5.0200</td>\n",
              "      <td>327.0</td>\n",
              "      <td>2</td>\n",
              "    </tr>\n",
              "    <tr>\n",
              "      <th>37</th>\n",
              "      <td>Congo, Dem. Rep.</td>\n",
              "      <td>116.0</td>\n",
              "      <td>137.2740</td>\n",
              "      <td>26.4194</td>\n",
              "      <td>165.664</td>\n",
              "      <td>609.0</td>\n",
              "      <td>20.80</td>\n",
              "      <td>57.5</td>\n",
              "      <td>6.5400</td>\n",
              "      <td>334.0</td>\n",
              "      <td>2</td>\n",
              "    </tr>\n",
              "    <tr>\n",
              "      <th>112</th>\n",
              "      <td>Niger</td>\n",
              "      <td>123.0</td>\n",
              "      <td>77.2560</td>\n",
              "      <td>17.9568</td>\n",
              "      <td>170.868</td>\n",
              "      <td>814.0</td>\n",
              "      <td>2.55</td>\n",
              "      <td>58.8</td>\n",
              "      <td>6.5636</td>\n",
              "      <td>348.0</td>\n",
              "      <td>2</td>\n",
              "    </tr>\n",
              "    <tr>\n",
              "      <th>132</th>\n",
              "      <td>Sierra Leone</td>\n",
              "      <td>160.0</td>\n",
              "      <td>67.0320</td>\n",
              "      <td>52.2690</td>\n",
              "      <td>137.655</td>\n",
              "      <td>1220.0</td>\n",
              "      <td>17.20</td>\n",
              "      <td>55.0</td>\n",
              "      <td>5.2000</td>\n",
              "      <td>399.0</td>\n",
              "      <td>2</td>\n",
              "    </tr>\n",
              "  </tbody>\n",
              "</table>\n",
              "</div>"
            ],
            "text/plain": [
              "              country  child_mort   exports   health  imports  income  \\\n",
              "26            Burundi        93.6   20.6052  26.7960   90.552   764.0   \n",
              "88            Liberia        89.3   62.4570  38.5860  302.802   700.0   \n",
              "37   Congo, Dem. Rep.       116.0  137.2740  26.4194  165.664   609.0   \n",
              "112             Niger       123.0   77.2560  17.9568  170.868   814.0   \n",
              "132      Sierra Leone       160.0   67.0320  52.2690  137.655  1220.0   \n",
              "\n",
              "     inflation  life_expec  total_fer   gdpp  Kmean_cluster_num  \n",
              "26       12.30        57.7     6.2600  231.0                  2  \n",
              "88        5.47        60.8     5.0200  327.0                  2  \n",
              "37       20.80        57.5     6.5400  334.0                  2  \n",
              "112       2.55        58.8     6.5636  348.0                  2  \n",
              "132      17.20        55.0     5.2000  399.0                  2  "
            ]
          },
          "execution_count": 65,
          "metadata": {},
          "output_type": "execute_result"
        }
      ],
      "source": [
        "\n",
        "Kmean_Clustering_top5=Final_Kmean.sort_values(by = ['gdpp','income', 'child_mort']).head(5).copy()\n",
        "Kmean_Clustering_top5"
      ]
    },
    {
      "cell_type": "code",
      "execution_count": null,
      "metadata": {
        "id": "tHOYeVvMG_I9",
        "outputId": "57ab669c-89f1-496e-d6b5-d1968f9240dd"
      },
      "outputs": [
        {
          "data": {
            "image/png": "[encoded data removed]",
            "text/plain": [
              "<Figure size 720x720 with 1 Axes>"
            ]
          },
          "metadata": {
            "needs_background": "light"
          },
          "output_type": "display_data"
        }
      ],
      "source": [
        "KMean_plot = Kmean_Clustering_top5.set_index('country')\n",
        "KMean_plot.plot.barh(figsize = (10,10))\n",
        "plt.xlabel('Kmean Clustering of top 5 countries', )\n",
        "plt.show()"
      ]
    },
    {
      "cell_type": "code",
      "execution_count": null,
      "metadata": {
        "id": "bt6gV7G9G_I9",
        "outputId": "50102790-731d-474d-ea44-648889c81c4c"
      },
      "outputs": [
        {
          "data": {
            "text/plain": [
              "0    70.658683\n",
              "1    24.550898\n",
              "2     4.790419\n",
              "Name: Hist_cluster_labels, dtype: float64"
            ]
          },
          "execution_count": 67,
          "metadata": {},
          "output_type": "execute_result"
        }
      ],
      "source": [
        "# Hierarchical Clustering Analysis\n",
        "\n",
        "H_cluster_per = df.Hist_cluster_labels.value_counts(normalize = True)*100\n",
        "H_cluster_per"
      ]
    },
    {
      "cell_type": "code",
      "execution_count": null,
      "metadata": {
        "id": "yPzwNQXKG_I9",
        "outputId": "197791e4-4048-4368-caeb-372f26a5dce7"
      },
      "outputs": [
        {
          "data": {
            "text/html": [
              "<div>\n",
              "<style scoped>\n",
              "    .dataframe tbody tr th:only-of-type {\n",
              "        vertical-align: middle;\n",
              "    }\n",
              "\n",
              "    .dataframe tbody tr th {\n",
              "        vertical-align: top;\n",
              "    }\n",
              "\n",
              "    .dataframe thead th {\n",
              "        text-align: right;\n",
              "    }\n",
              "</style>\n",
              "<table border=\"1\" class=\"dataframe\">\n",
              "  <thead>\n",
              "    <tr style=\"text-align: right;\">\n",
              "      <th></th>\n",
              "      <th>country</th>\n",
              "      <th>child_mort</th>\n",
              "      <th>exports</th>\n",
              "      <th>health</th>\n",
              "      <th>imports</th>\n",
              "      <th>income</th>\n",
              "      <th>inflation</th>\n",
              "      <th>life_expec</th>\n",
              "      <th>total_fer</th>\n",
              "      <th>gdpp</th>\n",
              "      <th>Kmean_cluster_num</th>\n",
              "    </tr>\n",
              "  </thead>\n",
              "  <tbody>\n",
              "    <tr>\n",
              "      <th>26</th>\n",
              "      <td>Burundi</td>\n",
              "      <td>93.6</td>\n",
              "      <td>20.6052</td>\n",
              "      <td>26.7960</td>\n",
              "      <td>90.552</td>\n",
              "      <td>764.0</td>\n",
              "      <td>12.30</td>\n",
              "      <td>57.7</td>\n",
              "      <td>6.2600</td>\n",
              "      <td>231.0</td>\n",
              "      <td>2</td>\n",
              "    </tr>\n",
              "    <tr>\n",
              "      <th>88</th>\n",
              "      <td>Liberia</td>\n",
              "      <td>89.3</td>\n",
              "      <td>62.4570</td>\n",
              "      <td>38.5860</td>\n",
              "      <td>302.802</td>\n",
              "      <td>700.0</td>\n",
              "      <td>5.47</td>\n",
              "      <td>60.8</td>\n",
              "      <td>5.0200</td>\n",
              "      <td>327.0</td>\n",
              "      <td>2</td>\n",
              "    </tr>\n",
              "    <tr>\n",
              "      <th>37</th>\n",
              "      <td>Congo, Dem. Rep.</td>\n",
              "      <td>116.0</td>\n",
              "      <td>137.2740</td>\n",
              "      <td>26.4194</td>\n",
              "      <td>165.664</td>\n",
              "      <td>609.0</td>\n",
              "      <td>20.80</td>\n",
              "      <td>57.5</td>\n",
              "      <td>6.5400</td>\n",
              "      <td>334.0</td>\n",
              "      <td>2</td>\n",
              "    </tr>\n",
              "    <tr>\n",
              "      <th>112</th>\n",
              "      <td>Niger</td>\n",
              "      <td>123.0</td>\n",
              "      <td>77.2560</td>\n",
              "      <td>17.9568</td>\n",
              "      <td>170.868</td>\n",
              "      <td>814.0</td>\n",
              "      <td>2.55</td>\n",
              "      <td>58.8</td>\n",
              "      <td>6.5636</td>\n",
              "      <td>348.0</td>\n",
              "      <td>2</td>\n",
              "    </tr>\n",
              "    <tr>\n",
              "      <th>132</th>\n",
              "      <td>Sierra Leone</td>\n",
              "      <td>160.0</td>\n",
              "      <td>67.0320</td>\n",
              "      <td>52.2690</td>\n",
              "      <td>137.655</td>\n",
              "      <td>1220.0</td>\n",
              "      <td>17.20</td>\n",
              "      <td>55.0</td>\n",
              "      <td>5.2000</td>\n",
              "      <td>399.0</td>\n",
              "      <td>2</td>\n",
              "    </tr>\n",
              "  </tbody>\n",
              "</table>\n",
              "</div>"
            ],
            "text/plain": [
              "              country  child_mort   exports   health  imports  income  \\\n",
              "26            Burundi        93.6   20.6052  26.7960   90.552   764.0   \n",
              "88            Liberia        89.3   62.4570  38.5860  302.802   700.0   \n",
              "37   Congo, Dem. Rep.       116.0  137.2740  26.4194  165.664   609.0   \n",
              "112             Niger       123.0   77.2560  17.9568  170.868   814.0   \n",
              "132      Sierra Leone       160.0   67.0320  52.2690  137.655  1220.0   \n",
              "\n",
              "     inflation  life_expec  total_fer   gdpp  Kmean_cluster_num  \n",
              "26       12.30        57.7     6.2600  231.0                  2  \n",
              "88        5.47        60.8     5.0200  327.0                  2  \n",
              "37       20.80        57.5     6.5400  334.0                  2  \n",
              "112       2.55        58.8     6.5636  348.0                  2  \n",
              "132      17.20        55.0     5.2000  399.0                  2  "
            ]
          },
          "execution_count": 68,
          "metadata": {},
          "output_type": "execute_result"
        }
      ],
      "source": [
        "Hier_Clustering_top5=Final_Kmean.sort_values(by = ['gdpp','income', 'child_mort']).head(5).copy()\n",
        "Hier_Clustering_top5"
      ]
    },
    {
      "cell_type": "code",
      "execution_count": null,
      "metadata": {
        "id": "1pZWcgk7G_I9",
        "outputId": "a7cc1e15-db37-442d-fb70-55a26d520f18"
      },
      "outputs": [
        {
          "data": {
            "image/png": "[encoded data removed]",
            "text/plain": [
              "<Figure size 720x720 with 1 Axes>"
            ]
          },
          "metadata": {
            "needs_background": "light"
          },
          "output_type": "display_data"
        }
      ],
      "source": [
        "KMean_plot = Hier_Clustering_top5.set_index('country')\n",
        "KMean_plot.plot.barh(figsize = (10,10))\n",
        "plt.xlabel('Hierarchical Clustering of top 5 countries', )\n",
        "plt.show()"
      ]
    },
    {
      "cell_type": "markdown",
      "metadata": {
        "id": "f0NQ653PG_I9"
      },
      "source": [
        "#### Final Verdict\n",
        "\n",
        "After reading through the dataset and considerding the fact that GDP per Capita, Income per Person and Child Mortality rate are solely reasons for the direst, we can encourage the NGO to contribute there $10 Million aid to following countries as they are in their direst need to help.\n",
        "\n",
        "\n",
        "1. Burundi\n",
        "2. Liberia\n",
        "3. Congo. Dem. Rep.\n",
        "4. Niger\n",
        "5. Sierra Leone"
      ]
    }
  ],
  "metadata": {
    "kernelspec": {
      "display_name": "Python 3",
      "language": "python",
      "name": "python3"
    },
    "language_info": {
      "codemirror_mode": {
        "name": "ipython",
        "version": 3
      },
      "file_extension": ".py",
      "mimetype": "text/x-python",
      "name": "python",
      "nbconvert_exporter": "python",
      "pygments_lexer": "ipython3",
      "version": "3.7.6"
    },
    "colab": {
      "provenance": [],
      "include_colab_link": true
    }
  },
  "nbformat": 4,
  "nbformat_minor": 0
}